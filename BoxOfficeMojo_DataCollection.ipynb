{
 "cells": [
  {
   "cell_type": "markdown",
   "id": "539ee2f9",
   "metadata": {},
   "source": [
    "# Box Office Mojo Analysis - Data Collection"
   ]
  },
  {
   "cell_type": "markdown",
   "id": "b331157b",
   "metadata": {},
   "source": [
    "Project: Create a model to predict what percentage of a domestic movie's revenue will be generated from international box offices.\n",
    "\n",
    "Data: Box Office Mojo top lifetime grosses for domestic films"
   ]
  },
  {
   "cell_type": "code",
   "execution_count": 1,
   "id": "66c681d8",
   "metadata": {},
   "outputs": [],
   "source": [
    "from bs4 import BeautifulSoup as bs\n",
    "import requests\n",
    "import pandas as pd\n",
    "from datetime import datetime\n",
    "import time, random\n",
    "import re\n",
    "import pickle"
   ]
  },
  {
   "cell_type": "markdown",
   "id": "f6ff3bcf",
   "metadata": {},
   "source": [
    "## Pull list of page URLs"
   ]
  },
  {
   "cell_type": "code",
   "execution_count": null,
   "id": "04b2e24f",
   "metadata": {},
   "outputs": [],
   "source": [
    "#get list of urls needed for scraping data from Box Office Mojo: Top Lifetime Grosses for domestic films\n",
    "url_base = 'https://www.boxofficemojo.com/chart/top_lifetime_gross/?offset='\n",
    "url_list = []\n",
    "pages = range(0,1000,200)\n",
    "for page in pages:\n",
    "    url = url_base + str(page)\n",
    "    response = requests.get(url)\n",
    "    page_html = response.text\n",
    "    soup = bs(page_html)\n",
    "    links = soup.find(id = 'table').find_all('a')\n",
    "    for link in links:\n",
    "        if '/title/' in link['href']:\n",
    "            url_list.append(link['href'])"
   ]
  },
  {
   "cell_type": "code",
   "execution_count": null,
   "id": "efa69388",
   "metadata": {},
   "outputs": [],
   "source": [
    "#get list of urls to get cast and crew data\n",
    "movie_urls = []\n",
    "for url in url_list:\n",
    "    idx = url.find('?')\n",
    "    movie_urls.append('https://www.boxofficemojo.com' + url[:idx] + 'credits/' + url[idx:])"
   ]
  },
  {
   "cell_type": "code",
   "execution_count": null,
   "id": "2cb598dd",
   "metadata": {},
   "outputs": [],
   "source": [
    "len(movie_urls)"
   ]
  },
  {
   "cell_type": "code",
   "execution_count": null,
   "id": "a537d52b",
   "metadata": {},
   "outputs": [],
   "source": [
    "with open('movie_urls.pickle', 'wb') as f:\n",
    "    pickle.dump(movie_urls, f)"
   ]
  },
  {
   "cell_type": "markdown",
   "id": "a0db377c",
   "metadata": {},
   "source": [
    "## Scraper Functions"
   ]
  },
  {
   "cell_type": "markdown",
   "id": "dfaf1079",
   "metadata": {},
   "source": [
    "**Index:** *Movie Title*\n",
    "\n",
    "**Target:** *% International Revenue*\n",
    "\n",
    "**Features:**\n",
    "\n",
    "- *Budget*\n",
    "- *Distributor*\n",
    "- *Release Date*\n",
    "- *Rating*\n",
    "- *Run Time*\n",
    "- *Genres*\n",
    "- *Director(s)*\n",
    "- *Actors*"
   ]
  },
  {
   "cell_type": "code",
   "execution_count": 2,
   "id": "fe42ccb0",
   "metadata": {},
   "outputs": [],
   "source": [
    "with open('movie_urls.pickle','rb') as g:\n",
    "    movie_urls = pickle.load(g)"
   ]
  },
  {
   "cell_type": "code",
   "execution_count": 4,
   "id": "b7be15c7",
   "metadata": {},
   "outputs": [
    {
     "data": {
      "text/plain": [
       "1000"
      ]
     },
     "execution_count": 4,
     "metadata": {},
     "output_type": "execute_result"
    }
   ],
   "source": [
    "len(movie_urls)"
   ]
  },
  {
   "cell_type": "code",
   "execution_count": 5,
   "id": "26e92060",
   "metadata": {},
   "outputs": [],
   "source": [
    "#function to scrape page data\n",
    "def get_features(url):\n",
    "    variables = ['title', 'intnl_pct', 'year', 'distributor', 'budget', 'release_date', 'rating', 'run_time', 'genres', 'directors', 'actors']\n",
    "    movie_vars = pd.Series(index = variables)\n",
    "    \n",
    "    #get movie page html\n",
    "    response = requests.get(url)\n",
    "    status = str(response.status_code)\n",
    "    #print warning and break if status code is not in 200s\n",
    "    if status[0] != '2':\n",
    "        print(count + movie + \"bad status: \" + status)\n",
    "\n",
    "    try:\n",
    "        page_html = response.text\n",
    "        soup = bs(page_html)\n",
    "        \n",
    "        #get variables\n",
    "        raw_title = soup.find('h1').text\n",
    "        movie_vars['title'] = ' '.join(raw_title.split()[:-1])\n",
    "\n",
    "        raw_intl_pct = soup.find_all(class_='percent')[1].text\n",
    "        intl_pct_str = raw_intl_pct[:-1]\n",
    "        if intl_pct_str == '':\n",
    "            movie_vars['intnl_pct'] = None\n",
    "        else:\n",
    "            movie_vars['intnl_pct'] = float(intl_pct_str) * .01\n",
    "\n",
    "        year_str = (raw_title.split()[-1])\n",
    "        year_str = ''.join(re.findall('[0-9]', year_str))\n",
    "        movie_vars['year'] = int(year_str)\n",
    "\n",
    "        movie_vars['distributor'] = soup.find(\n",
    "            class_ = \"a-section a-spacing-none mojo-summary-values mojo-hidden-from-mobile\").find(\n",
    "            class_ = 'a-section a-spacing-none').next.next.next.next\n",
    "\n",
    "        if 'Budget' in soup.find(\n",
    "            class_ = \"a-section a-spacing-none mojo-summary-values mojo-hidden-from-mobile\").find_all(\n",
    "            class_ = 'a-section a-spacing-none')[2].text:\n",
    "            raw_budget = soup.find(\n",
    "                class_ = \"a-section a-spacing-none mojo-summary-values mojo-hidden-from-mobile\").find_all(\n",
    "                class_ = 'a-section a-spacing-none')[2].text\n",
    "            budget_str = re.findall(\"[0-9]\",raw_budget)\n",
    "            movie_vars['budget'] = int(''.join(budget_str))\n",
    "        else:\n",
    "            movie_vars['budget'] = None\n",
    "\n",
    "        raw_release = soup.find(\n",
    "            class_=\"a-section a-spacing-none mojo-summary-values mojo-hidden-from-mobile\").find(\n",
    "            text = 'Earliest Release Date').parent.parent.next.next.next.text\n",
    "        movie_vars['release_date'] = ' '.join(raw_release.split()[:3])\n",
    "\n",
    "        if soup.find(\n",
    "            class_=\"a-section a-spacing-none mojo-summary-values mojo-hidden-from-mobile\").find(\n",
    "            text = 'MPAA') == 'MPAA':\n",
    "            movie_vars['rating'] = soup.find(\n",
    "            class_=\"a-section a-spacing-none mojo-summary-values mojo-hidden-from-mobile\").find(\n",
    "            text = 'MPAA').parent.parent.text[4:]\n",
    "        else:\n",
    "            movie_vars['rating'] = None\n",
    "\n",
    "        raw_run_time = soup.find(\n",
    "            class_=\"a-section a-spacing-none mojo-summary-values mojo-hidden-from-mobile\").find(\n",
    "            text = 'Running Time').parent.parent.next.next.next.text\n",
    "        run_time_str = raw_run_time.split()\n",
    "        hours = int(run_time_str[0]) * 60\n",
    "        try:\n",
    "            minutes = int(run_time_str[2])\n",
    "        except:\n",
    "            minutes = 0\n",
    "        movie_vars['run_time'] = hours + minutes\n",
    "\n",
    "        raw_genres = soup.find(\n",
    "            class_=\"a-section a-spacing-none mojo-summary-values mojo-hidden-from-mobile\").find(\n",
    "            text = 'Genres').parent.parent.next.next.next.text\n",
    "        movie_vars['genres'] = raw_genres.split()\n",
    "\n",
    "        movie_vars['directors'] = []\n",
    "        raw_directors = soup.find(id=\"principalCrew\").find_all(text = 'Director')\n",
    "        for director in raw_directors:\n",
    "            movie_vars['directors'].append(director.parent.parent.find('a').text[:-2])\n",
    "\n",
    "        movie_vars['actors'] = []\n",
    "        raw_actors = soup.find(id=\"principalCast\").find_all(class_ = 'a-link-normal')\n",
    "        for actor in raw_actors:\n",
    "            movie_vars['actors'].append(actor.text[:-2])\n",
    "    \n",
    "    except:\n",
    "        print('Error: {}'.format(url))\n",
    "    \n",
    "    return movie_vars"
   ]
  },
  {
   "cell_type": "code",
   "execution_count": 7,
   "id": "f4b10755",
   "metadata": {},
   "outputs": [
    {
     "name": "stdout",
     "output_type": "stream",
     "text": [
      "https://www.boxofficemojo.com/title/tt0125439/credits/?ref_=bo_cso_table_7\n"
     ]
    },
    {
     "name": "stderr",
     "output_type": "stream",
     "text": [
      "/var/folders/lg/km0fh1wx2mz0g_h65yrwqwmr0000gn/T/ipykernel_16422/1755537292.py:4: DeprecationWarning: The default dtype for empty Series will be 'object' instead of 'float64' in a future version. Specify a dtype explicitly to silence this warning.\n",
      "  movie_vars = pd.Series(index = variables)\n"
     ]
    },
    {
     "data": {
      "text/plain": [
       "title                                                Notting Hill\n",
       "intnl_pct                                                   0.681\n",
       "year                                                         1999\n",
       "distributor                                    Universal Pictures\n",
       "budget                                                   42000000\n",
       "release_date                                         May 28, 1999\n",
       "rating                                                      PG-13\n",
       "run_time                                                      124\n",
       "genres                                   [Comedy, Drama, Romance]\n",
       "directors                                         [Roger Michell]\n",
       "actors          [Hugh Grant, Julia Roberts, Richard McCabe, Rh...\n",
       "dtype: object"
      ]
     },
     "execution_count": 7,
     "metadata": {},
     "output_type": "execute_result"
    }
   ],
   "source": [
    "#data scrape test\n",
    "url = movie_urls[random.randrange(1000)]\n",
    "print(url)\n",
    "get_features(url)"
   ]
  },
  {
   "cell_type": "code",
   "execution_count": 8,
   "id": "75b3427f",
   "metadata": {},
   "outputs": [
    {
     "name": "stderr",
     "output_type": "stream",
     "text": [
      "/var/folders/lg/km0fh1wx2mz0g_h65yrwqwmr0000gn/T/ipykernel_16422/1755537292.py:4: DeprecationWarning: The default dtype for empty Series will be 'object' instead of 'float64' in a future version. Specify a dtype explicitly to silence this warning.\n",
      "  movie_vars = pd.Series(index = variables)\n"
     ]
    },
    {
     "name": "stdout",
     "output_type": "stream",
     "text": [
      "200 pages\n",
      "400 pages\n",
      "600 pages\n",
      "800 pages\n",
      "1000 pages\n"
     ]
    }
   ],
   "source": [
    "#scrape movie_url list\n",
    "variables = ['title', 'intnl_pct', 'year', 'distributor', 'budget', 'release_date', 'rating', 'run_time', 'genres', 'directors', 'actors']\n",
    "movies_series_data = []\n",
    "count = 0\n",
    "\n",
    "for url in movie_urls:\n",
    "    count += 1\n",
    "    if count % 200 == 0:\n",
    "        print(str(count) + ' pages')\n",
    "    try:\n",
    "        movies_series_data.append(get_features(url))\n",
    "    except:\n",
    "        print('error: count = {}, url = {}'.format(count,url))\n",
    "    if count % 20 == 0:\n",
    "        time.sleep(2)\n",
    "    \n",
    "movies_df = pd.DataFrame(movies_series_data)"
   ]
  },
  {
   "cell_type": "code",
   "execution_count": 9,
   "id": "f326139b",
   "metadata": {},
   "outputs": [
    {
     "data": {
      "text/html": [
       "<div>\n",
       "<style scoped>\n",
       "    .dataframe tbody tr th:only-of-type {\n",
       "        vertical-align: middle;\n",
       "    }\n",
       "\n",
       "    .dataframe tbody tr th {\n",
       "        vertical-align: top;\n",
       "    }\n",
       "\n",
       "    .dataframe thead th {\n",
       "        text-align: right;\n",
       "    }\n",
       "</style>\n",
       "<table border=\"1\" class=\"dataframe\">\n",
       "  <thead>\n",
       "    <tr style=\"text-align: right;\">\n",
       "      <th></th>\n",
       "      <th>title</th>\n",
       "      <th>intnl_pct</th>\n",
       "      <th>year</th>\n",
       "      <th>distributor</th>\n",
       "      <th>budget</th>\n",
       "      <th>release_date</th>\n",
       "      <th>rating</th>\n",
       "      <th>run_time</th>\n",
       "      <th>genres</th>\n",
       "      <th>directors</th>\n",
       "      <th>actors</th>\n",
       "    </tr>\n",
       "  </thead>\n",
       "  <tbody>\n",
       "    <tr>\n",
       "      <th>0</th>\n",
       "      <td>Star Wars: Episode VII - The Force Awakens</td>\n",
       "      <td>0.547</td>\n",
       "      <td>2015.0</td>\n",
       "      <td>Walt Disney Studios Motion Pictures</td>\n",
       "      <td>245000000.0</td>\n",
       "      <td>December 16, 2015</td>\n",
       "      <td>PG-13</td>\n",
       "      <td>138</td>\n",
       "      <td>[Action, Adventure, Sci-Fi]</td>\n",
       "      <td>[J.J. Abrams]</td>\n",
       "      <td>[Daisy Ridley, John Boyega, Oscar Isaac, Domhn...</td>\n",
       "    </tr>\n",
       "    <tr>\n",
       "      <th>1</th>\n",
       "      <td>Avengers: Endgame</td>\n",
       "      <td>0.693</td>\n",
       "      <td>2019.0</td>\n",
       "      <td>Walt Disney Studios Motion Pictures</td>\n",
       "      <td>356000000.0</td>\n",
       "      <td>April 24, 2019</td>\n",
       "      <td>PG-13</td>\n",
       "      <td>181</td>\n",
       "      <td>[Action, Adventure, Drama, Sci-Fi]</td>\n",
       "      <td>[Anthony Russo, Joe Russo]</td>\n",
       "      <td>[Robert Downey Jr., Chris Evans, Mark Ruffalo,...</td>\n",
       "    </tr>\n",
       "    <tr>\n",
       "      <th>2</th>\n",
       "      <td>Spider-Man: No Way Home</td>\n",
       "      <td>0.577</td>\n",
       "      <td>2021.0</td>\n",
       "      <td>Sony Pictures Entertainment (SPE)</td>\n",
       "      <td>NaN</td>\n",
       "      <td>December 15, 2021</td>\n",
       "      <td>PG-13</td>\n",
       "      <td>148</td>\n",
       "      <td>[Action, Adventure, Fantasy, Sci-Fi]</td>\n",
       "      <td>[Jon Watts]</td>\n",
       "      <td>[Tom Holland, Zendaya, Benedict Cumberbatch, J...</td>\n",
       "    </tr>\n",
       "    <tr>\n",
       "      <th>3</th>\n",
       "      <td>Avatar</td>\n",
       "      <td>0.733</td>\n",
       "      <td>2009.0</td>\n",
       "      <td>Twentieth Century Fox</td>\n",
       "      <td>237000000.0</td>\n",
       "      <td>December 16, 2009</td>\n",
       "      <td>PG-13</td>\n",
       "      <td>162</td>\n",
       "      <td>[Action, Adventure, Fantasy, Sci-Fi]</td>\n",
       "      <td>[James Cameron]</td>\n",
       "      <td>[Sam Worthington, Zoe Saldana, Sigourney Weave...</td>\n",
       "    </tr>\n",
       "    <tr>\n",
       "      <th>4</th>\n",
       "      <td>Black Panther</td>\n",
       "      <td>0.480</td>\n",
       "      <td>2018.0</td>\n",
       "      <td>Walt Disney Studios Motion Pictures</td>\n",
       "      <td>NaN</td>\n",
       "      <td>February 13, 2018</td>\n",
       "      <td>PG-13</td>\n",
       "      <td>134</td>\n",
       "      <td>[Action, Adventure, Sci-Fi]</td>\n",
       "      <td>[Ryan Coogler]</td>\n",
       "      <td>[Chadwick Boseman, Michael B. Jordan, Lupita N...</td>\n",
       "    </tr>\n",
       "  </tbody>\n",
       "</table>\n",
       "</div>"
      ],
      "text/plain": [
       "                                        title  intnl_pct    year  \\\n",
       "0  Star Wars: Episode VII - The Force Awakens      0.547  2015.0   \n",
       "1                           Avengers: Endgame      0.693  2019.0   \n",
       "2                     Spider-Man: No Way Home      0.577  2021.0   \n",
       "3                                      Avatar      0.733  2009.0   \n",
       "4                               Black Panther      0.480  2018.0   \n",
       "\n",
       "                           distributor       budget       release_date rating  \\\n",
       "0  Walt Disney Studios Motion Pictures  245000000.0  December 16, 2015  PG-13   \n",
       "1  Walt Disney Studios Motion Pictures  356000000.0     April 24, 2019  PG-13   \n",
       "2    Sony Pictures Entertainment (SPE)          NaN  December 15, 2021  PG-13   \n",
       "3                Twentieth Century Fox  237000000.0  December 16, 2009  PG-13   \n",
       "4  Walt Disney Studios Motion Pictures          NaN  February 13, 2018  PG-13   \n",
       "\n",
       "   run_time                                genres                   directors  \\\n",
       "0       138           [Action, Adventure, Sci-Fi]               [J.J. Abrams]   \n",
       "1       181    [Action, Adventure, Drama, Sci-Fi]  [Anthony Russo, Joe Russo]   \n",
       "2       148  [Action, Adventure, Fantasy, Sci-Fi]                 [Jon Watts]   \n",
       "3       162  [Action, Adventure, Fantasy, Sci-Fi]             [James Cameron]   \n",
       "4       134           [Action, Adventure, Sci-Fi]              [Ryan Coogler]   \n",
       "\n",
       "                                              actors  \n",
       "0  [Daisy Ridley, John Boyega, Oscar Isaac, Domhn...  \n",
       "1  [Robert Downey Jr., Chris Evans, Mark Ruffalo,...  \n",
       "2  [Tom Holland, Zendaya, Benedict Cumberbatch, J...  \n",
       "3  [Sam Worthington, Zoe Saldana, Sigourney Weave...  \n",
       "4  [Chadwick Boseman, Michael B. Jordan, Lupita N...  "
      ]
     },
     "execution_count": 9,
     "metadata": {},
     "output_type": "execute_result"
    }
   ],
   "source": [
    "movies_df.head()"
   ]
  },
  {
   "cell_type": "code",
   "execution_count": 10,
   "id": "1808abf3",
   "metadata": {},
   "outputs": [],
   "source": [
    "with open('movie_data.pickle', 'wb') as f:\n",
    "    pickle.dump(movies_df, f)"
   ]
  },
  {
   "cell_type": "code",
   "execution_count": 11,
   "id": "d825060c",
   "metadata": {},
   "outputs": [],
   "source": [
    "movies_df.to_csv('/Users/oliviaoffutt/Desktop/Data_Science/Metis_Regression/Project/movie_data.csv', index=False)"
   ]
  },
  {
   "cell_type": "markdown",
   "id": "923c78b3",
   "metadata": {},
   "source": [
    "# ERROR REDUCTION TESTING / LOG\n",
    "\n",
    "- v1: 136 errors\n",
    "--- added try/except for budget and rating\n",
    "- v2: 50 errors\n",
    "--- added try/except for movies with 0 international revenue\n",
    "- v3: 0 errors, but MPAA data not entering correctly\n",
    "--- fine tuned rating code\n",
    "- v4: "
   ]
  },
  {
   "cell_type": "code",
   "execution_count": 12,
   "id": "c9b39846",
   "metadata": {},
   "outputs": [
    {
     "name": "stdout",
     "output_type": "stream",
     "text": [
      "https://www.boxofficemojo.com/title/tt0092493/credits/?ref_=bo_cso_table_63\n",
      "Crocodile Dundee II\n",
      "0.544\n",
      "1988\n",
      "Paramount Pictures\n",
      "no budget\n",
      "May 25, 1988\n",
      "no rating\n",
      "108\n",
      "['Action', 'Adventure', 'Comedy']\n",
      "['John Cornell']\n",
      "['Paul Hogan', 'Linda Kozlowski', 'John Meillon', 'Ernie Dingo']\n"
     ]
    }
   ],
   "source": [
    "#testing scrape without try/except to fine tune code\n",
    "\n",
    "\n",
    "#get movie page html\n",
    "url = movie_urls[random.randrange(1000)]\n",
    "print(url)\n",
    "response = requests.get(url)\n",
    "status = str(response.status_code)\n",
    "#print warning and break if status code is not in 200s\n",
    "if status[0] != '2':\n",
    "    print(count + movie + \"bad status: \" + status)\n",
    "\n",
    "#FEATURES\n",
    "page_html = response.text\n",
    "soup = bs(page_html)\n",
    "\n",
    "#get variables\n",
    "raw_title = soup.find('h1').text\n",
    "print(' '.join(raw_title.split()[:-1]))\n",
    "\n",
    "raw_intl_pct = soup.find_all(class_='percent')[1].text\n",
    "intl_pct_str = raw_intl_pct[:-1]\n",
    "if intl_pct_str == '':\n",
    "    print('no intl revenue')\n",
    "else:\n",
    "    print(float(intl_pct_str) * .01)\n",
    "\n",
    "year_str = (raw_title.split()[-1])\n",
    "year_str = ''.join(re.findall('[0-9]', year_str))\n",
    "print(int(year_str))\n",
    "\n",
    "print(soup.find(\n",
    "    class_ = \"a-section a-spacing-none mojo-summary-values mojo-hidden-from-mobile\").find(\n",
    "    class_ = 'a-section a-spacing-none').next.next.next.next)\n",
    "\n",
    "if 'Budget' in soup.find(\n",
    "    class_ = \"a-section a-spacing-none mojo-summary-values mojo-hidden-from-mobile\").find_all(\n",
    "    class_ = 'a-section a-spacing-none')[2].text:\n",
    "    raw_budget = soup.find(\n",
    "        class_ = \"a-section a-spacing-none mojo-summary-values mojo-hidden-from-mobile\").find_all(\n",
    "        class_ = 'a-section a-spacing-none')[2].text\n",
    "    budget_str = re.findall(\"[0-9]\",raw_budget)\n",
    "    print(int(''.join(budget_str)))\n",
    "else:\n",
    "    print('no budget')\n",
    "\n",
    "raw_release = soup.find(\n",
    "    class_=\"a-section a-spacing-none mojo-summary-values mojo-hidden-from-mobile\").find(\n",
    "    text = 'Earliest Release Date').parent.parent.next.next.next.text\n",
    "print(' '.join(raw_release.split()[:3]))\n",
    "\n",
    "if soup.find(\n",
    "    class_=\"a-section a-spacing-none mojo-summary-values mojo-hidden-from-mobile\").find(text = 'MPAA') == 'MPAA':\n",
    "    print(soup.find(\n",
    "    class_=\"a-section a-spacing-none mojo-summary-values mojo-hidden-from-mobile\").find(\n",
    "    text = 'MPAA').parent.parent.text[4:])\n",
    "else:\n",
    "    print('no rating')\n",
    "\n",
    "raw_run_time = soup.find(\n",
    "    class_=\"a-section a-spacing-none mojo-summary-values mojo-hidden-from-mobile\").find(\n",
    "    text = 'Running Time').parent.parent.next.next.next.text\n",
    "run_time_str = raw_run_time.split()\n",
    "hours = int(run_time_str[0]) * 60\n",
    "try:\n",
    "    minutes = int(run_time_str[2])\n",
    "except:\n",
    "    minutes = 0\n",
    "print(hours + minutes)\n",
    "\n",
    "raw_genres = soup.find(\n",
    "    class_=\"a-section a-spacing-none mojo-summary-values mojo-hidden-from-mobile\").find(\n",
    "    text = 'Genres').parent.parent.next.next.next.text\n",
    "print(raw_genres.split())\n",
    "\n",
    "directors = []\n",
    "raw_directors = soup.find(id=\"principalCrew\").find_all(text = 'Director')\n",
    "for director in raw_directors:\n",
    "    directors.append(director.parent.parent.find('a').text[:-2])\n",
    "print(directors)\n",
    "\n",
    "actors = []\n",
    "raw_actors = soup.find(id=\"principalCast\").find_all(class_ = 'a-link-normal')\n",
    "for actor in raw_actors:\n",
    "    actors.append(actor.text[:-2])\n",
    "print(actors)"
   ]
  }
 ],
 "metadata": {
  "kernelspec": {
   "display_name": "Python 3 (regression)",
   "language": "python",
   "name": "regression"
  },
  "language_info": {
   "codemirror_mode": {
    "name": "ipython",
    "version": 3
   },
   "file_extension": ".py",
   "mimetype": "text/x-python",
   "name": "python",
   "nbconvert_exporter": "python",
   "pygments_lexer": "ipython3",
   "version": "3.9.7"
  }
 },
 "nbformat": 4,
 "nbformat_minor": 5
}
