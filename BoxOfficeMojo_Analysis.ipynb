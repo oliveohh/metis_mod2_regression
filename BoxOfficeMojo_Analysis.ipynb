{
 "cells": [
  {
   "cell_type": "markdown",
   "id": "21c8bf2a",
   "metadata": {},
   "source": [
    "# Box Office Mojo: Analysis"
   ]
  },
  {
   "cell_type": "code",
   "execution_count": 1,
   "id": "8323a2dc",
   "metadata": {},
   "outputs": [],
   "source": [
    "import pickle\n",
    "\n",
    "with open('movie_data.pickle','rb') as g:\n",
    "    df = pickle.load(g)"
   ]
  },
  {
   "cell_type": "code",
   "execution_count": 2,
   "id": "89b1406d",
   "metadata": {},
   "outputs": [
    {
     "name": "stdout",
     "output_type": "stream",
     "text": [
      "<class 'pandas.core.frame.DataFrame'>\n",
      "RangeIndex: 1000 entries, 0 to 999\n",
      "Data columns (total 11 columns):\n",
      " #   Column        Non-Null Count  Dtype  \n",
      "---  ------        --------------  -----  \n",
      " 0   title         1000 non-null   object \n",
      " 1   intnl_pct     950 non-null    float64\n",
      " 2   year          1000 non-null   float64\n",
      " 3   distributor   1000 non-null   object \n",
      " 4   budget        792 non-null    float64\n",
      " 5   release_date  1000 non-null   object \n",
      " 6   rating        877 non-null    object \n",
      " 7   run_time      1000 non-null   int64  \n",
      " 8   genres        1000 non-null   object \n",
      " 9   directors     1000 non-null   object \n",
      " 10  actors        1000 non-null   object \n",
      "dtypes: float64(3), int64(1), object(7)\n",
      "memory usage: 86.1+ KB\n"
     ]
    }
   ],
   "source": [
    "df.info()"
   ]
  },
  {
   "cell_type": "code",
   "execution_count": 3,
   "id": "26b91d76",
   "metadata": {},
   "outputs": [],
   "source": [
    "import pandas as pd\n",
    "import numpy as np\n",
    "import matplotlib.pyplot as plt\n",
    "import seaborn as sns\n",
    "import datetime as dt\n",
    "import cpi"
   ]
  },
  {
   "cell_type": "markdown",
   "id": "5b095e36",
   "metadata": {},
   "source": [
    "## A // CLEAN & FEATURE ENGINEERING DATA"
   ]
  },
  {
   "cell_type": "markdown",
   "id": "f05bf024",
   "metadata": {},
   "source": [
    "### A1 // Clean Data"
   ]
  },
  {
   "cell_type": "code",
   "execution_count": 4,
   "id": "18f45d92",
   "metadata": {},
   "outputs": [],
   "source": [
    "#TARGET // drop null data\n",
    "#df['intnl_pct'] = df['intnl_pct'].fillna(0) #test-- fill nulls with 0; result: produced high skew\n",
    "df = df.dropna(subset = ['intnl_pct']).reset_index(drop = True) #test-- drops null value rows"
   ]
  },
  {
   "cell_type": "code",
   "execution_count": 5,
   "id": "650be8c0",
   "metadata": {},
   "outputs": [
    {
     "data": {
      "text/plain": [
       "(array([ 12.,  10.,  33.,  63.,  87., 157., 217., 185., 148.,  38.]),\n",
       " array([0.002 , 0.0835, 0.165 , 0.2465, 0.328 , 0.4095, 0.491 , 0.5725,\n",
       "        0.654 , 0.7355, 0.817 ]),\n",
       " <BarContainer object of 10 artists>)"
      ]
     },
     "execution_count": 5,
     "metadata": {},
     "output_type": "execute_result"
    },
    {
     "data": {
      "image/png": "[encoded data removed]",
      "text/plain": [
       "<Figure size 432x288 with 1 Axes>"
      ]
     },
     "metadata": {
      "needs_background": "light"
     },
     "output_type": "display_data"
    }
   ],
   "source": [
    "plt.hist(df['intnl_pct'])"
   ]
  },
  {
   "cell_type": "code",
   "execution_count": 6,
   "id": "5bcaaaaf",
   "metadata": {},
   "outputs": [],
   "source": [
    "#test log(target) to fix heterokedasticity // RESULT: made much worse\n",
    "#df['intnl_pct_log'] = np.log(df['intnl_pct'])"
   ]
  },
  {
   "cell_type": "code",
   "execution_count": 7,
   "id": "915fe123",
   "metadata": {},
   "outputs": [],
   "source": [
    "#test sqroot(target) to fix heteroskedasticity // RESULT: made a bit worse\n",
    "#df['intnl_pct_sqrt'] = np.sqrt(df['intnl_pct'])"
   ]
  },
  {
   "cell_type": "code",
   "execution_count": 8,
   "id": "a1fa9cc6",
   "metadata": {},
   "outputs": [],
   "source": [
    "#FEATURES //\n",
    "#year convert to dt to adjust budget for inflation\n",
    "df['dt'] = df['year'].astype(int).astype(str)"
   ]
  },
  {
   "cell_type": "code",
   "execution_count": 9,
   "id": "27442765",
   "metadata": {},
   "outputs": [
    {
     "data": {
      "text/plain": [
       "(array([ 12.,  10.,  33.,  63.,  87., 157., 217., 185., 148.,  38.]),\n",
       " array([0.002 , 0.0835, 0.165 , 0.2465, 0.328 , 0.4095, 0.491 , 0.5725,\n",
       "        0.654 , 0.7355, 0.817 ]),\n",
       " <BarContainer object of 10 artists>)"
      ]
     },
     "execution_count": 9,
     "metadata": {},
     "output_type": "execute_result"
    },
    {
     "data": {
      "image/png": "[encoded data removed]",
      "text/plain": [
       "<Figure size 432x288 with 1 Axes>"
      ]
     },
     "metadata": {
      "needs_background": "light"
     },
     "output_type": "display_data"
    }
   ],
   "source": [
    "plt.hist(df['intnl_pct'])"
   ]
  },
  {
   "cell_type": "code",
   "execution_count": 10,
   "id": "f5e2f64d",
   "metadata": {},
   "outputs": [],
   "source": [
    "df['dt'] = pd.to_datetime(df.dt)"
   ]
  },
  {
   "cell_type": "code",
   "execution_count": 11,
   "id": "29c7324f",
   "metadata": {},
   "outputs": [],
   "source": [
    "#adjust budget to today's $\n",
    "def cpi_adjust(x):\n",
    "    return cpi.inflate(x['budget'],x['dt'])\n",
    "\n",
    "df['budget_adj'] = df.apply(cpi_adjust, axis = 1)"
   ]
  },
  {
   "cell_type": "code",
   "execution_count": 12,
   "id": "bc6042c8",
   "metadata": {},
   "outputs": [],
   "source": [
    "#convert year back to int\n",
    "df['year'] = df.year.astype(int)"
   ]
  },
  {
   "cell_type": "code",
   "execution_count": 13,
   "id": "6edf7432",
   "metadata": {},
   "outputs": [
    {
     "data": {
      "text/html": [
       "<div>\n",
       "<style scoped>\n",
       "    .dataframe tbody tr th:only-of-type {\n",
       "        vertical-align: middle;\n",
       "    }\n",
       "\n",
       "    .dataframe tbody tr th {\n",
       "        vertical-align: top;\n",
       "    }\n",
       "\n",
       "    .dataframe thead th {\n",
       "        text-align: right;\n",
       "    }\n",
       "</style>\n",
       "<table border=\"1\" class=\"dataframe\">\n",
       "  <thead>\n",
       "    <tr style=\"text-align: right;\">\n",
       "      <th></th>\n",
       "      <th>title</th>\n",
       "      <th>intnl_pct</th>\n",
       "      <th>year</th>\n",
       "      <th>distributor</th>\n",
       "      <th>budget</th>\n",
       "      <th>release_date</th>\n",
       "      <th>rating</th>\n",
       "      <th>run_time</th>\n",
       "      <th>genres</th>\n",
       "      <th>directors</th>\n",
       "      <th>actors</th>\n",
       "      <th>dt</th>\n",
       "      <th>budget_adj</th>\n",
       "    </tr>\n",
       "  </thead>\n",
       "  <tbody>\n",
       "    <tr>\n",
       "      <th>285</th>\n",
       "      <td>Get Out</td>\n",
       "      <td>0.311</td>\n",
       "      <td>2017</td>\n",
       "      <td>[$4,500,000]</td>\n",
       "      <td>NaN</td>\n",
       "      <td>February 18, 2016</td>\n",
       "      <td>R</td>\n",
       "      <td>104</td>\n",
       "      <td>[Horror, Mystery, Thriller]</td>\n",
       "      <td>[Jordan Peele]</td>\n",
       "      <td>[Daniel Kaluuya, Allison Williams, Bradley Whi...</td>\n",
       "      <td>2017-01-01</td>\n",
       "      <td>NaN</td>\n",
       "    </tr>\n",
       "  </tbody>\n",
       "</table>\n",
       "</div>"
      ],
      "text/plain": [
       "       title  intnl_pct  year   distributor  budget       release_date rating  \\\n",
       "285  Get Out      0.311  2017  [$4,500,000]     NaN  February 18, 2016      R   \n",
       "\n",
       "     run_time                       genres       directors  \\\n",
       "285       104  [Horror, Mystery, Thriller]  [Jordan Peele]   \n",
       "\n",
       "                                                actors         dt  budget_adj  \n",
       "285  [Daniel Kaluuya, Allison Williams, Bradley Whi... 2017-01-01         NaN  "
      ]
     },
     "execution_count": 13,
     "metadata": {},
     "output_type": "execute_result"
    }
   ],
   "source": [
    "val = df['distributor'].unique()[17]\n",
    "df[df['distributor'] == val]"
   ]
  },
  {
   "cell_type": "code",
   "execution_count": 14,
   "id": "eb9e2d6a",
   "metadata": {},
   "outputs": [],
   "source": [
    "#update mis-coded distributor\n",
    "df.at[285,'distributor'] = 'Other' #for df target nulls dropped\n",
    "#df.at[287,'distributor'] = 'Other' #for df target nulls = 0"
   ]
  },
  {
   "cell_type": "code",
   "execution_count": 15,
   "id": "b9c675b3",
   "metadata": {},
   "outputs": [],
   "source": [
    "#update mis-coded run time\n",
    "df['run_time'] = np.where(df['run_time']>500,df['run_time']/60,df['run_time'])"
   ]
  },
  {
   "cell_type": "code",
   "execution_count": 16,
   "id": "8a9711b4",
   "metadata": {},
   "outputs": [
    {
     "data": {
      "text/html": [
       "<div>\n",
       "<style scoped>\n",
       "    .dataframe tbody tr th:only-of-type {\n",
       "        vertical-align: middle;\n",
       "    }\n",
       "\n",
       "    .dataframe tbody tr th {\n",
       "        vertical-align: top;\n",
       "    }\n",
       "\n",
       "    .dataframe thead th {\n",
       "        text-align: right;\n",
       "    }\n",
       "</style>\n",
       "<table border=\"1\" class=\"dataframe\">\n",
       "  <thead>\n",
       "    <tr style=\"text-align: right;\">\n",
       "      <th></th>\n",
       "      <th>title</th>\n",
       "      <th>intnl_pct</th>\n",
       "      <th>year</th>\n",
       "      <th>distributor</th>\n",
       "      <th>budget</th>\n",
       "      <th>release_date</th>\n",
       "      <th>rating</th>\n",
       "      <th>run_time</th>\n",
       "      <th>genres</th>\n",
       "      <th>directors</th>\n",
       "      <th>actors</th>\n",
       "      <th>dt</th>\n",
       "      <th>budget_adj</th>\n",
       "    </tr>\n",
       "  </thead>\n",
       "  <tbody>\n",
       "  </tbody>\n",
       "</table>\n",
       "</div>"
      ],
      "text/plain": [
       "Empty DataFrame\n",
       "Columns: [title, intnl_pct, year, distributor, budget, release_date, rating, run_time, genres, directors, actors, dt, budget_adj]\n",
       "Index: []"
      ]
     },
     "execution_count": 16,
     "metadata": {},
     "output_type": "execute_result"
    }
   ],
   "source": [
    "df[df['run_time']>500]"
   ]
  },
  {
   "cell_type": "code",
   "execution_count": 17,
   "id": "2d3078ef",
   "metadata": {},
   "outputs": [],
   "source": [
    "#convert release_date to month only\n",
    "df.release_date = df.release_date.str.split(\" \")"
   ]
  },
  {
   "cell_type": "code",
   "execution_count": 18,
   "id": "0334c74e",
   "metadata": {},
   "outputs": [],
   "source": [
    "df['release_month'] = df.release_date.apply(lambda x: x[0])"
   ]
  },
  {
   "cell_type": "code",
   "execution_count": 19,
   "id": "ac0d1d2f",
   "metadata": {},
   "outputs": [],
   "source": [
    "df = df.drop('release_date',axis = 1)"
   ]
  },
  {
   "cell_type": "code",
   "execution_count": 20,
   "id": "75062c64",
   "metadata": {},
   "outputs": [
    {
     "data": {
      "text/plain": [
       "20th Century Studios                     1\n",
       "Artisan Entertainment                    1\n",
       "Columbia Pictures                        8\n",
       "Dimension Films                          7\n",
       "DreamWorks                              21\n",
       "DreamWorks Distribution                 17\n",
       "FilmDistrict                             2\n",
       "Focus Features                           2\n",
       "Fox Searchlight Pictures                 4\n",
       "IFC Films                                1\n",
       "IMAX                                     1\n",
       "Lionsgate                               18\n",
       "MacGillivray Freeman Films               1\n",
       "Metro-Goldwyn-Mayer (MGM)               14\n",
       "Miramax                                  9\n",
       "New Line Cinema                         20\n",
       "Newmarket Films                          1\n",
       "Orion Pictures                           2\n",
       "Other                                    1\n",
       "Paramount Pictures                     104\n",
       "RKO Radio Pictures                       1\n",
       "Relativity Media                         1\n",
       "Revolution Studios                       8\n",
       "Roadside Attractions                     1\n",
       "STX Entertainment                        3\n",
       "Screen Gems                              3\n",
       "Sony Pictures Classics                   1\n",
       "Sony Pictures Entertainment (SPE)       99\n",
       "Summit Entertainment                     5\n",
       "The Weinstein Company                    6\n",
       "TriStar Pictures                        12\n",
       "Twentieth Century Fox                  119\n",
       "USA Films                                1\n",
       "United Artists                           2\n",
       "United Artists Releasing                 1\n",
       "Universal Pictures                     126\n",
       "Walt Disney Studios Motion Pictures    164\n",
       "Warner Bros.                           162\n",
       "Name: distributor, dtype: int64"
      ]
     },
     "execution_count": 20,
     "metadata": {},
     "output_type": "execute_result"
    }
   ],
   "source": [
    "#ID + combine category dupes -- DreamWorks + DreamWorks Distribution\n",
    "df['distributor'].value_counts().sort_index()"
   ]
  },
  {
   "cell_type": "code",
   "execution_count": 21,
   "id": "a93a0dde",
   "metadata": {},
   "outputs": [],
   "source": [
    "df['distributor'] = df['distributor'].replace('DreamWorks Distribution','DreamWorks')"
   ]
  },
  {
   "cell_type": "markdown",
   "id": "f455f0ce",
   "metadata": {},
   "source": [
    "### A2 // Create Dummy Vars\n",
    "- Genres\n",
    "- Distributor\n",
    "- Month\n",
    "- Directors\n",
    "- Actors\n",
    "- Rating\n",
    "\n",
    "*support from https://stackoverflow.com/questions/29034928/pandas-convert-a-column-of-list-to-dummies*"
   ]
  },
  {
   "cell_type": "code",
   "execution_count": 22,
   "id": "07dac0d3",
   "metadata": {},
   "outputs": [],
   "source": [
    "#GENRES\n",
    "\n",
    "#Create genre dummies df\n",
    "genre_dummy = pd.get_dummies(df['genres'].explode()).groupby(level=0).sum()"
   ]
  },
  {
   "cell_type": "code",
   "execution_count": 23,
   "id": "c28d6fff",
   "metadata": {},
   "outputs": [
    {
     "data": {
      "text/plain": [
       "Action         411\n",
       "Adventure      455\n",
       "Animation      147\n",
       "Biography       39\n",
       "Comedy         417\n",
       "Crime          138\n",
       "Documentary      4\n",
       "Drama          302\n",
       "Family         238\n",
       "Fantasy        238\n",
       "History         21\n",
       "Horror          50\n",
       "Music           32\n",
       "Musical         61\n",
       "Mystery         91\n",
       "Romance        152\n",
       "Sci-Fi         230\n",
       "Short            1\n",
       "Sport           28\n",
       "Thriller       236\n",
       "War             27\n",
       "Western         14\n",
       "dtype: int64"
      ]
     },
     "execution_count": 23,
     "metadata": {},
     "output_type": "execute_result"
    }
   ],
   "source": [
    "genre_dummy.sum()"
   ]
  },
  {
   "cell_type": "code",
   "execution_count": 24,
   "id": "05e513b9",
   "metadata": {},
   "outputs": [],
   "source": [
    "#ID genres < 25\n",
    "genre_col_list = ['Documentary', 'History', 'Short', 'Western']"
   ]
  },
  {
   "cell_type": "code",
   "execution_count": 25,
   "id": "db19ea86",
   "metadata": {},
   "outputs": [],
   "source": [
    "#drop col_list\n",
    "genre_dummy = genre_dummy.drop(genre_col_list, axis = 1)"
   ]
  },
  {
   "cell_type": "code",
   "execution_count": 26,
   "id": "7b7825f0",
   "metadata": {},
   "outputs": [],
   "source": [
    "#DISTRIBUTOR\n",
    "\n",
    "#replace dist w counts < 10 as 'Other'\n",
    "s_dis = df['distributor'].value_counts()\n",
    "other_dist = list(s_dis[s_dis < 10].index)\n",
    "df['distributor'] = df['distributor'].replace(other_dist,'Other')"
   ]
  },
  {
   "cell_type": "code",
   "execution_count": 27,
   "id": "69fb08d8",
   "metadata": {},
   "outputs": [],
   "source": [
    "#get distribution dummy df\n",
    "dist_dummy = pd.get_dummies(df['distributor'], drop_first = True)"
   ]
  },
  {
   "cell_type": "code",
   "execution_count": 28,
   "id": "c1bd2abe",
   "metadata": {},
   "outputs": [
    {
     "data": {
      "text/plain": [
       "Lionsgate                               18\n",
       "Metro-Goldwyn-Mayer (MGM)               14\n",
       "New Line Cinema                         20\n",
       "Other                                   74\n",
       "Paramount Pictures                     104\n",
       "Sony Pictures Entertainment (SPE)       99\n",
       "TriStar Pictures                        12\n",
       "Twentieth Century Fox                  119\n",
       "Universal Pictures                     126\n",
       "Walt Disney Studios Motion Pictures    164\n",
       "Warner Bros.                           162\n",
       "dtype: int64"
      ]
     },
     "execution_count": 28,
     "metadata": {},
     "output_type": "execute_result"
    }
   ],
   "source": [
    "dist_dummy.sum()"
   ]
  },
  {
   "cell_type": "code",
   "execution_count": 29,
   "id": "58dbd5e5",
   "metadata": {},
   "outputs": [],
   "source": [
    "#MONTH\n",
    "\n",
    "#get month dummy df\n",
    "month_dummy = pd.get_dummies(df['release_month'],drop_first = True)"
   ]
  },
  {
   "cell_type": "code",
   "execution_count": 30,
   "id": "a9ff8f9c",
   "metadata": {},
   "outputs": [
    {
     "data": {
      "text/plain": [
       "August        58\n",
       "December     138\n",
       "February      50\n",
       "January       22\n",
       "July         113\n",
       "June         145\n",
       "March         71\n",
       "May          108\n",
       "November     109\n",
       "October       54\n",
       "September     44\n",
       "dtype: int64"
      ]
     },
     "execution_count": 30,
     "metadata": {},
     "output_type": "execute_result"
    }
   ],
   "source": [
    "month_dummy.sum()"
   ]
  },
  {
   "cell_type": "code",
   "execution_count": 31,
   "id": "5d958169",
   "metadata": {},
   "outputs": [],
   "source": [
    "#DIRECTORS\n",
    "\n",
    "#get directors dummy df\n",
    "direct_dummy = pd.get_dummies(df['directors'].explode()).groupby(level=0).sum()"
   ]
  },
  {
   "cell_type": "code",
   "execution_count": 32,
   "id": "bc14ff89",
   "metadata": {},
   "outputs": [],
   "source": [
    "#drop directors < 8\n",
    "s_dir = direct_dummy.sum()\n",
    "other_dir = list(s_dir[s_dir < 8].index)"
   ]
  },
  {
   "cell_type": "code",
   "execution_count": 33,
   "id": "78326365",
   "metadata": {},
   "outputs": [],
   "source": [
    "#drop col_list\n",
    "direct_dummy = direct_dummy.drop(other_dir, axis = 1)"
   ]
  },
  {
   "cell_type": "code",
   "execution_count": 34,
   "id": "426e5eb7",
   "metadata": {},
   "outputs": [],
   "source": [
    "#ACTORS\n",
    "\n",
    "#get actors dummy df\n",
    "actor_dummy = pd.get_dummies(df['actors'].explode()).groupby(level=0).sum()"
   ]
  },
  {
   "cell_type": "code",
   "execution_count": 35,
   "id": "6a68be5e",
   "metadata": {},
   "outputs": [],
   "source": [
    "#drop actors < 10\n",
    "s_act = actor_dummy.sum()\n",
    "other_act = list(s_act[s_act < 10].index)"
   ]
  },
  {
   "cell_type": "code",
   "execution_count": 36,
   "id": "01e148ee",
   "metadata": {},
   "outputs": [],
   "source": [
    "#drop col_list\n",
    "actor_dummy = actor_dummy.drop(other_act, axis = 1)"
   ]
  },
  {
   "cell_type": "markdown",
   "id": "e1528d30",
   "metadata": {},
   "source": [
    "### A3 // Address Null Values\n",
    "- impute data for rows w feat null values (budget, rating)"
   ]
  },
  {
   "cell_type": "code",
   "execution_count": 37,
   "id": "2f05cfef",
   "metadata": {},
   "outputs": [
    {
     "data": {
      "text/plain": [
       "(array([104., 167., 174., 113., 107.,  68.,  27.,  18.,   4.,   3.]),\n",
       " array([2.16605407e+04, 4.33405758e+07, 8.66594911e+07, 1.29978406e+08,\n",
       "        1.73297322e+08, 2.16616237e+08, 2.59935152e+08, 3.03254068e+08,\n",
       "        3.46572983e+08, 3.89891898e+08, 4.33210813e+08]),\n",
       " <BarContainer object of 10 artists>)"
      ]
     },
     "execution_count": 37,
     "metadata": {},
     "output_type": "execute_result"
    },
    {
     "data": {
      "image/png": "[encoded data removed]",
      "text/plain": [
       "<Figure size 432x288 with 1 Axes>"
      ]
     },
     "metadata": {
      "needs_background": "light"
     },
     "output_type": "display_data"
    }
   ],
   "source": [
    "#FEATURE // ID skewness in budget data\n",
    "plt.hist(df['budget_adj'])"
   ]
  },
  {
   "cell_type": "code",
   "execution_count": 38,
   "id": "79bfffeb",
   "metadata": {},
   "outputs": [],
   "source": [
    "#budget is skewed, so impute median value\n",
    "df['budget_adj'].fillna(df['budget_adj'].median(), inplace = True)"
   ]
  },
  {
   "cell_type": "code",
   "execution_count": 39,
   "id": "806ae36b",
   "metadata": {},
   "outputs": [
    {
     "data": {
      "text/plain": [
       "PG-13    416\n",
       "R        215\n",
       "PG       209\n",
       "G         24\n",
       "Name: rating, dtype: int64"
      ]
     },
     "execution_count": 39,
     "metadata": {},
     "output_type": "execute_result"
    }
   ],
   "source": [
    "#FEATURE // Review rating data\n",
    "df['rating'].value_counts()"
   ]
  },
  {
   "cell_type": "code",
   "execution_count": 40,
   "id": "3d602ca9",
   "metadata": {},
   "outputs": [],
   "source": [
    "#Impute 'missing' rating for null values\n",
    "df['rating'].fillna('missing', inplace = True)"
   ]
  },
  {
   "cell_type": "code",
   "execution_count": 41,
   "id": "79342304",
   "metadata": {},
   "outputs": [
    {
     "data": {
      "text/plain": [
       "PG-13      416\n",
       "R          215\n",
       "PG         209\n",
       "missing     86\n",
       "G           24\n",
       "Name: rating, dtype: int64"
      ]
     },
     "execution_count": 41,
     "metadata": {},
     "output_type": "execute_result"
    }
   ],
   "source": [
    "df['rating'].value_counts()"
   ]
  },
  {
   "cell_type": "code",
   "execution_count": 42,
   "id": "c0f9f3e6",
   "metadata": {},
   "outputs": [],
   "source": [
    "#get rating dummy df\n",
    "rating_dummy = pd.get_dummies(df['rating'],drop_first = True)"
   ]
  },
  {
   "cell_type": "code",
   "execution_count": 43,
   "id": "949d18d9",
   "metadata": {},
   "outputs": [
    {
     "data": {
      "text/plain": [
       "PG         209\n",
       "PG-13      416\n",
       "R          215\n",
       "missing     86\n",
       "dtype: int64"
      ]
     },
     "execution_count": 43,
     "metadata": {},
     "output_type": "execute_result"
    }
   ],
   "source": [
    "rating_dummy.sum()"
   ]
  },
  {
   "cell_type": "code",
   "execution_count": 44,
   "id": "ffc4406b",
   "metadata": {},
   "outputs": [
    {
     "data": {
      "text/html": [
       "<div>\n",
       "<style scoped>\n",
       "    .dataframe tbody tr th:only-of-type {\n",
       "        vertical-align: middle;\n",
       "    }\n",
       "\n",
       "    .dataframe tbody tr th {\n",
       "        vertical-align: top;\n",
       "    }\n",
       "\n",
       "    .dataframe thead th {\n",
       "        text-align: right;\n",
       "    }\n",
       "</style>\n",
       "<table border=\"1\" class=\"dataframe\">\n",
       "  <thead>\n",
       "    <tr style=\"text-align: right;\">\n",
       "      <th></th>\n",
       "      <th>title</th>\n",
       "      <th>intnl_pct</th>\n",
       "      <th>year</th>\n",
       "      <th>distributor</th>\n",
       "      <th>budget</th>\n",
       "      <th>rating</th>\n",
       "      <th>run_time</th>\n",
       "      <th>genres</th>\n",
       "      <th>directors</th>\n",
       "      <th>actors</th>\n",
       "      <th>dt</th>\n",
       "      <th>budget_adj</th>\n",
       "      <th>release_month</th>\n",
       "    </tr>\n",
       "  </thead>\n",
       "  <tbody>\n",
       "    <tr>\n",
       "      <th>0</th>\n",
       "      <td>Star Wars: Episode VII - The Force Awakens</td>\n",
       "      <td>0.547</td>\n",
       "      <td>2015</td>\n",
       "      <td>Walt Disney Studios Motion Pictures</td>\n",
       "      <td>245000000.0</td>\n",
       "      <td>PG-13</td>\n",
       "      <td>138.0</td>\n",
       "      <td>[Action, Adventure, Sci-Fi]</td>\n",
       "      <td>[J.J. Abrams]</td>\n",
       "      <td>[Daisy Ridley, John Boyega, Oscar Isaac, Domhn...</td>\n",
       "      <td>2015-01-01</td>\n",
       "      <td>3.064201e+08</td>\n",
       "      <td>December</td>\n",
       "    </tr>\n",
       "  </tbody>\n",
       "</table>\n",
       "</div>"
      ],
      "text/plain": [
       "                                        title  intnl_pct  year  \\\n",
       "0  Star Wars: Episode VII - The Force Awakens      0.547  2015   \n",
       "\n",
       "                           distributor       budget rating  run_time  \\\n",
       "0  Walt Disney Studios Motion Pictures  245000000.0  PG-13     138.0   \n",
       "\n",
       "                        genres      directors  \\\n",
       "0  [Action, Adventure, Sci-Fi]  [J.J. Abrams]   \n",
       "\n",
       "                                              actors         dt    budget_adj  \\\n",
       "0  [Daisy Ridley, John Boyega, Oscar Isaac, Domhn... 2015-01-01  3.064201e+08   \n",
       "\n",
       "  release_month  \n",
       "0      December  "
      ]
     },
     "execution_count": 44,
     "metadata": {},
     "output_type": "execute_result"
    }
   ],
   "source": [
    "df.head(1)"
   ]
  },
  {
   "cell_type": "markdown",
   "id": "0d45102f",
   "metadata": {},
   "source": [
    "## B // REVIEW OLS\n",
    "\n",
    "- Target appears to have some cone shaped heteroskedasticity. Attempted to fix via log and sqrt transformations without success.\n",
    "- The ratings feature vars had high VIF scores and p-values. After some adjustment of the data without improvement, I dropped these columns, and the metrics for collinearity improved. \n",
    "- OLS overview: R2 = .484; Adj R2 = .427; Durbin-Watson = 2.023\n",
    "    - dropped and re-added other feature vars but this only seemed to reduce the R2 metrics."
   ]
  },
  {
   "cell_type": "code",
   "execution_count": 45,
   "id": "61168ccc",
   "metadata": {},
   "outputs": [],
   "source": [
    "#create target df w none, log, and sqrt transformations to address heteroskedasticity\n",
    "\n",
    "y = df.loc[:,'intnl_pct'].astype(float) #regular test\n",
    "#y = df.loc[:,'intnl_pct_log'].astype(float) #log test // results poor\n",
    "#y = df.loc[:,'intnl_pct_sqrt'].astype(float) #sqrt test // results poor"
   ]
  },
  {
   "cell_type": "code",
   "execution_count": 46,
   "id": "0f3e2c48",
   "metadata": {},
   "outputs": [
    {
     "data": {
      "text/plain": [
       "count    950.000000\n",
       "mean       0.516157\n",
       "std        0.152769\n",
       "min        0.002000\n",
       "25%        0.428250\n",
       "50%        0.530500\n",
       "75%        0.625000\n",
       "max        0.817000\n",
       "Name: intnl_pct, dtype: float64"
      ]
     },
     "execution_count": 46,
     "metadata": {},
     "output_type": "execute_result"
    }
   ],
   "source": [
    "y.describe()"
   ]
  },
  {
   "cell_type": "code",
   "execution_count": 47,
   "id": "144b53a4",
   "metadata": {},
   "outputs": [],
   "source": [
    "#create features df\n",
    "\n",
    "df_feat = df.drop(columns = ['dt','budget','rating','genres','directors','actors','release_month','distributor'])\n"
   ]
  },
  {
   "cell_type": "code",
   "execution_count": 48,
   "id": "5a4f246d",
   "metadata": {},
   "outputs": [
    {
     "name": "stdout",
     "output_type": "stream",
     "text": [
      "<class 'pandas.core.frame.DataFrame'>\n",
      "RangeIndex: 950 entries, 0 to 949\n",
      "Data columns (total 5 columns):\n",
      " #   Column      Non-Null Count  Dtype  \n",
      "---  ------      --------------  -----  \n",
      " 0   title       950 non-null    object \n",
      " 1   intnl_pct   950 non-null    float64\n",
      " 2   year        950 non-null    int64  \n",
      " 3   run_time    950 non-null    float64\n",
      " 4   budget_adj  950 non-null    float64\n",
      "dtypes: float64(3), int64(1), object(1)\n",
      "memory usage: 37.2+ KB\n"
     ]
    }
   ],
   "source": [
    "df_feat.info()"
   ]
  },
  {
   "cell_type": "code",
   "execution_count": 49,
   "id": "a938ccff",
   "metadata": {},
   "outputs": [],
   "source": [
    "#Removed rating feat due to high VIF\n",
    "#df_feat = pd.merge(df_feat,rating_dummy,left_index = True, right_index = True)"
   ]
  },
  {
   "cell_type": "code",
   "execution_count": 50,
   "id": "e1250659",
   "metadata": {},
   "outputs": [],
   "source": [
    "df_feat = pd.merge(df_feat,actor_dummy,left_index = True, right_index = True)"
   ]
  },
  {
   "cell_type": "code",
   "execution_count": 51,
   "id": "4f2d0bc3",
   "metadata": {},
   "outputs": [],
   "source": [
    "df_feat = pd.merge(df_feat,genre_dummy,left_index = True, right_index = True)"
   ]
  },
  {
   "cell_type": "code",
   "execution_count": 52,
   "id": "5c1a8674",
   "metadata": {},
   "outputs": [],
   "source": [
    "df_feat = pd.merge(df_feat,direct_dummy,left_index = True, right_index = True)"
   ]
  },
  {
   "cell_type": "code",
   "execution_count": 53,
   "id": "d17ec3f2",
   "metadata": {},
   "outputs": [],
   "source": [
    "df_feat = pd.merge(df_feat,month_dummy,left_index = True, right_index = True)"
   ]
  },
  {
   "cell_type": "code",
   "execution_count": 54,
   "id": "8db4690e",
   "metadata": {},
   "outputs": [],
   "source": [
    "df_feat = pd.merge(df_feat,dist_dummy,left_index = True, right_index = True)"
   ]
  },
  {
   "cell_type": "code",
   "execution_count": 55,
   "id": "c4f4ed18",
   "metadata": {},
   "outputs": [
    {
     "name": "stdout",
     "output_type": "stream",
     "text": [
      "<class 'pandas.core.frame.DataFrame'>\n",
      "RangeIndex: 950 entries, 0 to 949\n",
      "Data columns (total 97 columns):\n",
      " #   Column                               Non-Null Count  Dtype  \n",
      "---  ------                               --------------  -----  \n",
      " 0   title                                950 non-null    object \n",
      " 1   intnl_pct                            950 non-null    float64\n",
      " 2   year                                 950 non-null    int64  \n",
      " 3   run_time                             950 non-null    float64\n",
      " 4   budget_adj                           950 non-null    float64\n",
      " 5   Adam Sandler                         950 non-null    uint8  \n",
      " 6   Angelina Jolie                       950 non-null    uint8  \n",
      " 7   Anne Hathaway                        950 non-null    uint8  \n",
      " 8   Antonio Banderas                     950 non-null    uint8  \n",
      " 9   Ben Affleck                          950 non-null    uint8  \n",
      " 10  Ben Stiller                          950 non-null    uint8  \n",
      " 11  Brad Pitt                            950 non-null    uint8  \n",
      " 12  Bruce Willis                         950 non-null    uint8  \n",
      " 13  Cameron Diaz                         950 non-null    uint8  \n",
      " 14  Cate Blanchett                       950 non-null    uint8  \n",
      " 15  Chris Evans                          950 non-null    uint8  \n",
      " 16  Chris Pratt                          950 non-null    uint8  \n",
      " 17  Denzel Washington                    950 non-null    uint8  \n",
      " 18  Dwayne Johnson                       950 non-null    uint8  \n",
      " 19  Eddie Murphy                         950 non-null    uint8  \n",
      " 20  Emma Watson                          950 non-null    uint8  \n",
      " 21  Harrison Ford                        950 non-null    uint8  \n",
      " 22  Hugh Jackman                         950 non-null    uint8  \n",
      " 23  Ian McKellen                         950 non-null    uint8  \n",
      " 24  Jim Carrey                           950 non-null    uint8  \n",
      " 25  John Travolta                        950 non-null    uint8  \n",
      " 26  Johnny Depp                          950 non-null    uint8  \n",
      " 27  Julia Roberts                        950 non-null    uint8  \n",
      " 28  Kevin Hart                           950 non-null    uint8  \n",
      " 29  Leonardo DiCaprio                    950 non-null    uint8  \n",
      " 30  Liam Neeson                          950 non-null    uint8  \n",
      " 31  Mark Wahlberg                        950 non-null    uint8  \n",
      " 32  Matt Damon                           950 non-null    uint8  \n",
      " 33  Mel Gibson                           950 non-null    uint8  \n",
      " 34  Morgan Freeman                       950 non-null    uint8  \n",
      " 35  Owen Wilson                          950 non-null    uint8  \n",
      " 36  Robert Downey Jr.                    950 non-null    uint8  \n",
      " 37  Robin Williams                       950 non-null    uint8  \n",
      " 38  Ryan Reynolds                        950 non-null    uint8  \n",
      " 39  Samuel L. Jackson                    950 non-null    uint8  \n",
      " 40  Sandra Bullock                       950 non-null    uint8  \n",
      " 41  Steve Carell                         950 non-null    uint8  \n",
      " 42  Tom Cruise                           950 non-null    uint8  \n",
      " 43  Tom Hanks                            950 non-null    uint8  \n",
      " 44  Tommy Lee Jones                      950 non-null    uint8  \n",
      " 45  Vin Diesel                           950 non-null    uint8  \n",
      " 46  Will Ferrell                         950 non-null    uint8  \n",
      " 47  Will Smith                           950 non-null    uint8  \n",
      " 48  Action                               950 non-null    uint8  \n",
      " 49  Adventure                            950 non-null    uint8  \n",
      " 50  Animation                            950 non-null    uint8  \n",
      " 51  Biography                            950 non-null    uint8  \n",
      " 52  Comedy                               950 non-null    uint8  \n",
      " 53  Crime                                950 non-null    uint8  \n",
      " 54  Drama                                950 non-null    uint8  \n",
      " 55  Family                               950 non-null    uint8  \n",
      " 56  Fantasy                              950 non-null    uint8  \n",
      " 57  Horror                               950 non-null    uint8  \n",
      " 58  Music                                950 non-null    uint8  \n",
      " 59  Musical                              950 non-null    uint8  \n",
      " 60  Mystery                              950 non-null    uint8  \n",
      " 61  Romance                              950 non-null    uint8  \n",
      " 62  Sci-Fi                               950 non-null    uint8  \n",
      " 63  Sport                                950 non-null    uint8  \n",
      " 64  Thriller                             950 non-null    uint8  \n",
      " 65  War                                  950 non-null    uint8  \n",
      " 66  Clint Eastwood                       950 non-null    uint8  \n",
      " 67  David Yates                          950 non-null    uint8  \n",
      " 68  Michael Bay                          950 non-null    uint8  \n",
      " 69  Ridley Scott                         950 non-null    uint8  \n",
      " 70  Robert Zemeckis                      950 non-null    uint8  \n",
      " 71  Ron Howard                           950 non-null    uint8  \n",
      " 72  Shawn Levy                           950 non-null    uint8  \n",
      " 73  Steven Spielberg                     950 non-null    uint8  \n",
      " 74  Tim Burton                           950 non-null    uint8  \n",
      " 75  August                               950 non-null    uint8  \n",
      " 76  December                             950 non-null    uint8  \n",
      " 77  February                             950 non-null    uint8  \n",
      " 78  January                              950 non-null    uint8  \n",
      " 79  July                                 950 non-null    uint8  \n",
      " 80  June                                 950 non-null    uint8  \n",
      " 81  March                                950 non-null    uint8  \n",
      " 82  May                                  950 non-null    uint8  \n",
      " 83  November                             950 non-null    uint8  \n",
      " 84  October                              950 non-null    uint8  \n",
      " 85  September                            950 non-null    uint8  \n",
      " 86  Lionsgate                            950 non-null    uint8  \n",
      " 87  Metro-Goldwyn-Mayer (MGM)            950 non-null    uint8  \n",
      " 88  New Line Cinema                      950 non-null    uint8  \n",
      " 89  Other                                950 non-null    uint8  \n",
      " 90  Paramount Pictures                   950 non-null    uint8  \n",
      " 91  Sony Pictures Entertainment (SPE)    950 non-null    uint8  \n",
      " 92  TriStar Pictures                     950 non-null    uint8  \n",
      " 93  Twentieth Century Fox                950 non-null    uint8  \n",
      " 94  Universal Pictures                   950 non-null    uint8  \n",
      " 95  Walt Disney Studios Motion Pictures  950 non-null    uint8  \n",
      " 96  Warner Bros.                         950 non-null    uint8  \n",
      "dtypes: float64(3), int64(1), object(1), uint8(92)\n",
      "memory usage: 122.6+ KB\n"
     ]
    }
   ],
   "source": [
    "df_feat.info()"
   ]
  },
  {
   "cell_type": "markdown",
   "id": "9adc32ed",
   "metadata": {},
   "source": []
  },
  {
   "cell_type": "code",
   "execution_count": 56,
   "id": "753831d8",
   "metadata": {},
   "outputs": [],
   "source": [
    "import statsmodels.api as sm"
   ]
  },
  {
   "cell_type": "code",
   "execution_count": 57,
   "id": "54655ef3",
   "metadata": {},
   "outputs": [],
   "source": [
    "df_x = df_feat.drop(columns = ['title','intnl_pct'])"
   ]
  },
  {
   "cell_type": "code",
   "execution_count": 58,
   "id": "f100e127",
   "metadata": {},
   "outputs": [
    {
     "name": "stderr",
     "output_type": "stream",
     "text": [
      "/Users/oliviaoffutt/opt/anaconda3/lib/python3.9/site-packages/statsmodels/tsa/tsatools.py:142: FutureWarning: In a future version of pandas all arguments of concat except for the argument 'objs' will be keyword-only\n",
      "  x = pd.concat(x[::order], 1)\n"
     ]
    }
   ],
   "source": [
    "X = sm.add_constant(df_x)"
   ]
  },
  {
   "cell_type": "code",
   "execution_count": 59,
   "id": "95635a3f",
   "metadata": {},
   "outputs": [],
   "source": [
    "model = sm.OLS(y,X,data = df_feat)\n",
    "results = model.fit()"
   ]
  },
  {
   "cell_type": "code",
   "execution_count": 60,
   "id": "7d445c55",
   "metadata": {},
   "outputs": [
    {
     "data": {
      "text/html": [
       "<table class=\"simpletable\">\n",
       "<caption>OLS Regression Results</caption>\n",
       "<tr>\n",
       "  <th>Dep. Variable:</th>        <td>intnl_pct</td>    <th>  R-squared:         </th> <td>   0.484</td>\n",
       "</tr>\n",
       "<tr>\n",
       "  <th>Model:</th>                   <td>OLS</td>       <th>  Adj. R-squared:    </th> <td>   0.427</td>\n",
       "</tr>\n",
       "<tr>\n",
       "  <th>Method:</th>             <td>Least Squares</td>  <th>  F-statistic:       </th> <td>   8.448</td>\n",
       "</tr>\n",
       "<tr>\n",
       "  <th>Date:</th>             <td>Tue, 12 Jul 2022</td> <th>  Prob (F-statistic):</th> <td>2.36e-73</td>\n",
       "</tr>\n",
       "<tr>\n",
       "  <th>Time:</th>                 <td>22:46:56</td>     <th>  Log-Likelihood:    </th> <td>  752.11</td>\n",
       "</tr>\n",
       "<tr>\n",
       "  <th>No. Observations:</th>      <td>   950</td>      <th>  AIC:               </th> <td>  -1312.</td>\n",
       "</tr>\n",
       "<tr>\n",
       "  <th>Df Residuals:</th>          <td>   854</td>      <th>  BIC:               </th> <td>  -846.0</td>\n",
       "</tr>\n",
       "<tr>\n",
       "  <th>Df Model:</th>              <td>    95</td>      <th>                     </th>     <td> </td>   \n",
       "</tr>\n",
       "<tr>\n",
       "  <th>Covariance Type:</th>      <td>nonrobust</td>    <th>                     </th>     <td> </td>   \n",
       "</tr>\n",
       "</table>\n",
       "<table class=\"simpletable\">\n",
       "<tr>\n",
       "                   <td></td>                      <th>coef</th>     <th>std err</th>      <th>t</th>      <th>P>|t|</th>  <th>[0.025</th>    <th>0.975]</th>  \n",
       "</tr>\n",
       "<tr>\n",
       "  <th>const</th>                               <td>   -7.6140</td> <td>    0.812</td> <td>   -9.371</td> <td> 0.000</td> <td>   -9.209</td> <td>   -6.019</td>\n",
       "</tr>\n",
       "<tr>\n",
       "  <th>year</th>                                <td>    0.0040</td> <td>    0.000</td> <td>    9.749</td> <td> 0.000</td> <td>    0.003</td> <td>    0.005</td>\n",
       "</tr>\n",
       "<tr>\n",
       "  <th>run_time</th>                            <td>    0.0007</td> <td>    0.000</td> <td>    2.693</td> <td> 0.007</td> <td>    0.000</td> <td>    0.001</td>\n",
       "</tr>\n",
       "<tr>\n",
       "  <th>budget_adj</th>                          <td> 4.041e-10</td> <td> 7.62e-11</td> <td>    5.302</td> <td> 0.000</td> <td> 2.55e-10</td> <td> 5.54e-10</td>\n",
       "</tr>\n",
       "<tr>\n",
       "  <th>Adam Sandler</th>                        <td>   -0.0373</td> <td>    0.031</td> <td>   -1.187</td> <td> 0.235</td> <td>   -0.099</td> <td>    0.024</td>\n",
       "</tr>\n",
       "<tr>\n",
       "  <th>Angelina Jolie</th>                      <td>    0.0464</td> <td>    0.034</td> <td>    1.350</td> <td> 0.177</td> <td>   -0.021</td> <td>    0.114</td>\n",
       "</tr>\n",
       "<tr>\n",
       "  <th>Anne Hathaway</th>                       <td>    0.0448</td> <td>    0.035</td> <td>    1.263</td> <td> 0.207</td> <td>   -0.025</td> <td>    0.114</td>\n",
       "</tr>\n",
       "<tr>\n",
       "  <th>Antonio Banderas</th>                    <td>   -0.0032</td> <td>    0.039</td> <td>   -0.082</td> <td> 0.934</td> <td>   -0.081</td> <td>    0.074</td>\n",
       "</tr>\n",
       "<tr>\n",
       "  <th>Ben Affleck</th>                         <td>   -0.0648</td> <td>    0.036</td> <td>   -1.787</td> <td> 0.074</td> <td>   -0.136</td> <td>    0.006</td>\n",
       "</tr>\n",
       "<tr>\n",
       "  <th>Ben Stiller</th>                         <td>    0.0556</td> <td>    0.036</td> <td>    1.543</td> <td> 0.123</td> <td>   -0.015</td> <td>    0.126</td>\n",
       "</tr>\n",
       "<tr>\n",
       "  <th>Brad Pitt</th>                           <td>    0.0825</td> <td>    0.035</td> <td>    2.375</td> <td> 0.018</td> <td>    0.014</td> <td>    0.151</td>\n",
       "</tr>\n",
       "<tr>\n",
       "  <th>Bruce Willis</th>                        <td>    0.0505</td> <td>    0.038</td> <td>    1.314</td> <td> 0.189</td> <td>   -0.025</td> <td>    0.126</td>\n",
       "</tr>\n",
       "<tr>\n",
       "  <th>Cameron Diaz</th>                        <td>    0.0550</td> <td>    0.034</td> <td>    1.601</td> <td> 0.110</td> <td>   -0.012</td> <td>    0.123</td>\n",
       "</tr>\n",
       "<tr>\n",
       "  <th>Cate Blanchett</th>                      <td>    0.0236</td> <td>    0.037</td> <td>    0.639</td> <td> 0.523</td> <td>   -0.049</td> <td>    0.096</td>\n",
       "</tr>\n",
       "<tr>\n",
       "  <th>Chris Evans</th>                         <td>   -0.0284</td> <td>    0.040</td> <td>   -0.703</td> <td> 0.482</td> <td>   -0.108</td> <td>    0.051</td>\n",
       "</tr>\n",
       "<tr>\n",
       "  <th>Chris Pratt</th>                         <td>   -0.0413</td> <td>    0.039</td> <td>   -1.050</td> <td> 0.294</td> <td>   -0.118</td> <td>    0.036</td>\n",
       "</tr>\n",
       "<tr>\n",
       "  <th>Denzel Washington</th>                   <td>   -0.0871</td> <td>    0.036</td> <td>   -2.421</td> <td> 0.016</td> <td>   -0.158</td> <td>   -0.016</td>\n",
       "</tr>\n",
       "<tr>\n",
       "  <th>Dwayne Johnson</th>                      <td>    0.0852</td> <td>    0.032</td> <td>    2.678</td> <td> 0.008</td> <td>    0.023</td> <td>    0.148</td>\n",
       "</tr>\n",
       "<tr>\n",
       "  <th>Eddie Murphy</th>                        <td>   -0.0084</td> <td>    0.034</td> <td>   -0.249</td> <td> 0.804</td> <td>   -0.075</td> <td>    0.058</td>\n",
       "</tr>\n",
       "<tr>\n",
       "  <th>Emma Watson</th>                         <td>    0.0506</td> <td>    0.044</td> <td>    1.152</td> <td> 0.250</td> <td>   -0.036</td> <td>    0.137</td>\n",
       "</tr>\n",
       "<tr>\n",
       "  <th>Harrison Ford</th>                       <td>   -0.0587</td> <td>    0.031</td> <td>   -1.899</td> <td> 0.058</td> <td>   -0.119</td> <td>    0.002</td>\n",
       "</tr>\n",
       "<tr>\n",
       "  <th>Hugh Jackman</th>                        <td>   -0.0112</td> <td>    0.036</td> <td>   -0.313</td> <td> 0.754</td> <td>   -0.081</td> <td>    0.059</td>\n",
       "</tr>\n",
       "<tr>\n",
       "  <th>Ian McKellen</th>                        <td>    0.0664</td> <td>    0.042</td> <td>    1.584</td> <td> 0.114</td> <td>   -0.016</td> <td>    0.149</td>\n",
       "</tr>\n",
       "<tr>\n",
       "  <th>Jim Carrey</th>                          <td>    0.0352</td> <td>    0.030</td> <td>    1.169</td> <td> 0.243</td> <td>   -0.024</td> <td>    0.094</td>\n",
       "</tr>\n",
       "<tr>\n",
       "  <th>John Travolta</th>                       <td>    0.0084</td> <td>    0.037</td> <td>    0.226</td> <td> 0.821</td> <td>   -0.064</td> <td>    0.081</td>\n",
       "</tr>\n",
       "<tr>\n",
       "  <th>Johnny Depp</th>                         <td>    0.0378</td> <td>    0.038</td> <td>    0.997</td> <td> 0.319</td> <td>   -0.037</td> <td>    0.112</td>\n",
       "</tr>\n",
       "<tr>\n",
       "  <th>Julia Roberts</th>                       <td>    0.0380</td> <td>    0.031</td> <td>    1.221</td> <td> 0.223</td> <td>   -0.023</td> <td>    0.099</td>\n",
       "</tr>\n",
       "<tr>\n",
       "  <th>Kevin Hart</th>                          <td>   -0.1317</td> <td>    0.040</td> <td>   -3.288</td> <td> 0.001</td> <td>   -0.210</td> <td>   -0.053</td>\n",
       "</tr>\n",
       "<tr>\n",
       "  <th>Leonardo DiCaprio</th>                   <td>    0.0519</td> <td>    0.038</td> <td>    1.375</td> <td> 0.169</td> <td>   -0.022</td> <td>    0.126</td>\n",
       "</tr>\n",
       "<tr>\n",
       "  <th>Liam Neeson</th>                         <td>    0.0487</td> <td>    0.037</td> <td>    1.315</td> <td> 0.189</td> <td>   -0.024</td> <td>    0.121</td>\n",
       "</tr>\n",
       "<tr>\n",
       "  <th>Mark Wahlberg</th>                       <td>   -0.0102</td> <td>    0.033</td> <td>   -0.311</td> <td> 0.756</td> <td>   -0.075</td> <td>    0.054</td>\n",
       "</tr>\n",
       "<tr>\n",
       "  <th>Matt Damon</th>                          <td>   -0.0338</td> <td>    0.033</td> <td>   -1.022</td> <td> 0.307</td> <td>   -0.099</td> <td>    0.031</td>\n",
       "</tr>\n",
       "<tr>\n",
       "  <th>Mel Gibson</th>                          <td>    0.0273</td> <td>    0.035</td> <td>    0.781</td> <td> 0.435</td> <td>   -0.041</td> <td>    0.096</td>\n",
       "</tr>\n",
       "<tr>\n",
       "  <th>Morgan Freeman</th>                      <td>    0.0386</td> <td>    0.032</td> <td>    1.217</td> <td> 0.224</td> <td>   -0.024</td> <td>    0.101</td>\n",
       "</tr>\n",
       "<tr>\n",
       "  <th>Owen Wilson</th>                         <td>   -0.0079</td> <td>    0.039</td> <td>   -0.203</td> <td> 0.839</td> <td>   -0.085</td> <td>    0.069</td>\n",
       "</tr>\n",
       "<tr>\n",
       "  <th>Robert Downey Jr.</th>                   <td>    0.0301</td> <td>    0.039</td> <td>    0.772</td> <td> 0.441</td> <td>   -0.046</td> <td>    0.107</td>\n",
       "</tr>\n",
       "<tr>\n",
       "  <th>Robin Williams</th>                      <td>    0.0466</td> <td>    0.035</td> <td>    1.315</td> <td> 0.189</td> <td>   -0.023</td> <td>    0.116</td>\n",
       "</tr>\n",
       "<tr>\n",
       "  <th>Ryan Reynolds</th>                       <td>    0.0259</td> <td>    0.039</td> <td>    0.671</td> <td> 0.502</td> <td>   -0.050</td> <td>    0.102</td>\n",
       "</tr>\n",
       "<tr>\n",
       "  <th>Samuel L. Jackson</th>                   <td>    0.0178</td> <td>    0.031</td> <td>    0.569</td> <td> 0.570</td> <td>   -0.044</td> <td>    0.079</td>\n",
       "</tr>\n",
       "<tr>\n",
       "  <th>Sandra Bullock</th>                      <td>   -0.0177</td> <td>    0.035</td> <td>   -0.503</td> <td> 0.615</td> <td>   -0.087</td> <td>    0.051</td>\n",
       "</tr>\n",
       "<tr>\n",
       "  <th>Steve Carell</th>                        <td>   -0.0697</td> <td>    0.035</td> <td>   -1.996</td> <td> 0.046</td> <td>   -0.138</td> <td>   -0.001</td>\n",
       "</tr>\n",
       "<tr>\n",
       "  <th>Tom Cruise</th>                          <td>    0.0359</td> <td>    0.026</td> <td>    1.364</td> <td> 0.173</td> <td>   -0.016</td> <td>    0.088</td>\n",
       "</tr>\n",
       "<tr>\n",
       "  <th>Tom Hanks</th>                           <td>   -0.0138</td> <td>    0.028</td> <td>   -0.499</td> <td> 0.618</td> <td>   -0.068</td> <td>    0.041</td>\n",
       "</tr>\n",
       "<tr>\n",
       "  <th>Tommy Lee Jones</th>                     <td>   -0.0495</td> <td>    0.040</td> <td>   -1.253</td> <td> 0.211</td> <td>   -0.127</td> <td>    0.028</td>\n",
       "</tr>\n",
       "<tr>\n",
       "  <th>Vin Diesel</th>                          <td>    0.0197</td> <td>    0.040</td> <td>    0.490</td> <td> 0.624</td> <td>   -0.059</td> <td>    0.099</td>\n",
       "</tr>\n",
       "<tr>\n",
       "  <th>Will Ferrell</th>                        <td>   -0.1436</td> <td>    0.036</td> <td>   -4.010</td> <td> 0.000</td> <td>   -0.214</td> <td>   -0.073</td>\n",
       "</tr>\n",
       "<tr>\n",
       "  <th>Will Smith</th>                          <td>    0.0516</td> <td>    0.031</td> <td>    1.637</td> <td> 0.102</td> <td>   -0.010</td> <td>    0.113</td>\n",
       "</tr>\n",
       "<tr>\n",
       "  <th>Action</th>                              <td>    0.0040</td> <td>    0.012</td> <td>    0.325</td> <td> 0.745</td> <td>   -0.020</td> <td>    0.028</td>\n",
       "</tr>\n",
       "<tr>\n",
       "  <th>Adventure</th>                           <td>    0.0443</td> <td>    0.012</td> <td>    3.690</td> <td> 0.000</td> <td>    0.021</td> <td>    0.068</td>\n",
       "</tr>\n",
       "<tr>\n",
       "  <th>Animation</th>                           <td>    0.1062</td> <td>    0.018</td> <td>    6.008</td> <td> 0.000</td> <td>    0.072</td> <td>    0.141</td>\n",
       "</tr>\n",
       "<tr>\n",
       "  <th>Biography</th>                           <td>   -0.0676</td> <td>    0.022</td> <td>   -3.069</td> <td> 0.002</td> <td>   -0.111</td> <td>   -0.024</td>\n",
       "</tr>\n",
       "<tr>\n",
       "  <th>Comedy</th>                              <td>   -0.0478</td> <td>    0.013</td> <td>   -3.799</td> <td> 0.000</td> <td>   -0.072</td> <td>   -0.023</td>\n",
       "</tr>\n",
       "<tr>\n",
       "  <th>Crime</th>                               <td>   -0.0136</td> <td>    0.013</td> <td>   -1.044</td> <td> 0.297</td> <td>   -0.039</td> <td>    0.012</td>\n",
       "</tr>\n",
       "<tr>\n",
       "  <th>Drama</th>                               <td>    0.0012</td> <td>    0.011</td> <td>    0.104</td> <td> 0.917</td> <td>   -0.021</td> <td>    0.023</td>\n",
       "</tr>\n",
       "<tr>\n",
       "  <th>Family</th>                              <td>   -0.0148</td> <td>    0.016</td> <td>   -0.926</td> <td> 0.355</td> <td>   -0.046</td> <td>    0.017</td>\n",
       "</tr>\n",
       "<tr>\n",
       "  <th>Fantasy</th>                             <td>   -0.0129</td> <td>    0.012</td> <td>   -1.118</td> <td> 0.264</td> <td>   -0.036</td> <td>    0.010</td>\n",
       "</tr>\n",
       "<tr>\n",
       "  <th>Horror</th>                              <td>   -0.0207</td> <td>    0.021</td> <td>   -1.011</td> <td> 0.312</td> <td>   -0.061</td> <td>    0.020</td>\n",
       "</tr>\n",
       "<tr>\n",
       "  <th>Music</th>                               <td>   -0.0028</td> <td>    0.022</td> <td>   -0.126</td> <td> 0.899</td> <td>   -0.047</td> <td>    0.041</td>\n",
       "</tr>\n",
       "<tr>\n",
       "  <th>Musical</th>                             <td>   -0.0150</td> <td>    0.018</td> <td>   -0.824</td> <td> 0.410</td> <td>   -0.051</td> <td>    0.021</td>\n",
       "</tr>\n",
       "<tr>\n",
       "  <th>Mystery</th>                             <td>    0.0203</td> <td>    0.015</td> <td>    1.321</td> <td> 0.187</td> <td>   -0.010</td> <td>    0.050</td>\n",
       "</tr>\n",
       "<tr>\n",
       "  <th>Romance</th>                             <td>    0.0134</td> <td>    0.012</td> <td>    1.078</td> <td> 0.281</td> <td>   -0.011</td> <td>    0.038</td>\n",
       "</tr>\n",
       "<tr>\n",
       "  <th>Sci-Fi</th>                              <td>   -0.0112</td> <td>    0.012</td> <td>   -0.975</td> <td> 0.330</td> <td>   -0.034</td> <td>    0.011</td>\n",
       "</tr>\n",
       "<tr>\n",
       "  <th>Sport</th>                               <td>   -0.0783</td> <td>    0.024</td> <td>   -3.210</td> <td> 0.001</td> <td>   -0.126</td> <td>   -0.030</td>\n",
       "</tr>\n",
       "<tr>\n",
       "  <th>Thriller</th>                            <td>    0.0312</td> <td>    0.012</td> <td>    2.634</td> <td> 0.009</td> <td>    0.008</td> <td>    0.055</td>\n",
       "</tr>\n",
       "<tr>\n",
       "  <th>War</th>                                 <td>   -0.0503</td> <td>    0.025</td> <td>   -1.994</td> <td> 0.047</td> <td>   -0.100</td> <td>   -0.001</td>\n",
       "</tr>\n",
       "<tr>\n",
       "  <th>Clint Eastwood</th>                      <td>   -0.0683</td> <td>    0.044</td> <td>   -1.540</td> <td> 0.124</td> <td>   -0.155</td> <td>    0.019</td>\n",
       "</tr>\n",
       "<tr>\n",
       "  <th>David Yates</th>                         <td>    0.0531</td> <td>    0.048</td> <td>    1.103</td> <td> 0.270</td> <td>   -0.041</td> <td>    0.148</td>\n",
       "</tr>\n",
       "<tr>\n",
       "  <th>Michael Bay</th>                         <td>    0.0450</td> <td>    0.043</td> <td>    1.038</td> <td> 0.300</td> <td>   -0.040</td> <td>    0.130</td>\n",
       "</tr>\n",
       "<tr>\n",
       "  <th>Ridley Scott</th>                        <td>   -0.0014</td> <td>    0.044</td> <td>   -0.032</td> <td> 0.975</td> <td>   -0.087</td> <td>    0.084</td>\n",
       "</tr>\n",
       "<tr>\n",
       "  <th>Robert Zemeckis</th>                     <td>   -0.0114</td> <td>    0.036</td> <td>   -0.318</td> <td> 0.751</td> <td>   -0.082</td> <td>    0.059</td>\n",
       "</tr>\n",
       "<tr>\n",
       "  <th>Ron Howard</th>                          <td>   -0.0539</td> <td>    0.044</td> <td>   -1.221</td> <td> 0.222</td> <td>   -0.141</td> <td>    0.033</td>\n",
       "</tr>\n",
       "<tr>\n",
       "  <th>Shawn Levy</th>                          <td>    0.0367</td> <td>    0.046</td> <td>    0.804</td> <td> 0.422</td> <td>   -0.053</td> <td>    0.126</td>\n",
       "</tr>\n",
       "<tr>\n",
       "  <th>Steven Spielberg</th>                    <td>    0.0702</td> <td>    0.031</td> <td>    2.293</td> <td> 0.022</td> <td>    0.010</td> <td>    0.130</td>\n",
       "</tr>\n",
       "<tr>\n",
       "  <th>Tim Burton</th>                          <td>    0.0019</td> <td>    0.045</td> <td>    0.043</td> <td> 0.965</td> <td>   -0.086</td> <td>    0.090</td>\n",
       "</tr>\n",
       "<tr>\n",
       "  <th>August</th>                              <td>   -0.0220</td> <td>    0.027</td> <td>   -0.809</td> <td> 0.419</td> <td>   -0.075</td> <td>    0.031</td>\n",
       "</tr>\n",
       "<tr>\n",
       "  <th>December</th>                            <td>    0.0190</td> <td>    0.025</td> <td>    0.771</td> <td> 0.441</td> <td>   -0.029</td> <td>    0.067</td>\n",
       "</tr>\n",
       "<tr>\n",
       "  <th>February</th>                            <td>    0.0041</td> <td>    0.028</td> <td>    0.146</td> <td> 0.884</td> <td>   -0.051</td> <td>    0.059</td>\n",
       "</tr>\n",
       "<tr>\n",
       "  <th>January</th>                             <td>   -0.0341</td> <td>    0.034</td> <td>   -0.993</td> <td> 0.321</td> <td>   -0.101</td> <td>    0.033</td>\n",
       "</tr>\n",
       "<tr>\n",
       "  <th>July</th>                                <td>    0.0021</td> <td>    0.025</td> <td>    0.083</td> <td> 0.934</td> <td>   -0.047</td> <td>    0.051</td>\n",
       "</tr>\n",
       "<tr>\n",
       "  <th>June</th>                                <td>    0.0218</td> <td>    0.024</td> <td>    0.898</td> <td> 0.369</td> <td>   -0.026</td> <td>    0.070</td>\n",
       "</tr>\n",
       "<tr>\n",
       "  <th>March</th>                               <td>   -0.0101</td> <td>    0.026</td> <td>   -0.382</td> <td> 0.703</td> <td>   -0.062</td> <td>    0.042</td>\n",
       "</tr>\n",
       "<tr>\n",
       "  <th>May</th>                                 <td>    0.0410</td> <td>    0.025</td> <td>    1.641</td> <td> 0.101</td> <td>   -0.008</td> <td>    0.090</td>\n",
       "</tr>\n",
       "<tr>\n",
       "  <th>November</th>                            <td>    0.0387</td> <td>    0.025</td> <td>    1.537</td> <td> 0.125</td> <td>   -0.011</td> <td>    0.088</td>\n",
       "</tr>\n",
       "<tr>\n",
       "  <th>October</th>                             <td>    0.0594</td> <td>    0.028</td> <td>    2.131</td> <td> 0.033</td> <td>    0.005</td> <td>    0.114</td>\n",
       "</tr>\n",
       "<tr>\n",
       "  <th>September</th>                           <td>    0.0368</td> <td>    0.029</td> <td>    1.263</td> <td> 0.207</td> <td>   -0.020</td> <td>    0.094</td>\n",
       "</tr>\n",
       "<tr>\n",
       "  <th>Lionsgate</th>                           <td>    0.0113</td> <td>    0.037</td> <td>    0.306</td> <td> 0.760</td> <td>   -0.061</td> <td>    0.084</td>\n",
       "</tr>\n",
       "<tr>\n",
       "  <th>Metro-Goldwyn-Mayer (MGM)</th>           <td>    0.0121</td> <td>    0.040</td> <td>    0.302</td> <td> 0.763</td> <td>   -0.066</td> <td>    0.091</td>\n",
       "</tr>\n",
       "<tr>\n",
       "  <th>New Line Cinema</th>                     <td>    0.0042</td> <td>    0.036</td> <td>    0.115</td> <td> 0.908</td> <td>   -0.067</td> <td>    0.075</td>\n",
       "</tr>\n",
       "<tr>\n",
       "  <th>Other</th>                               <td>    0.0161</td> <td>    0.027</td> <td>    0.598</td> <td> 0.550</td> <td>   -0.037</td> <td>    0.069</td>\n",
       "</tr>\n",
       "<tr>\n",
       "  <th>Paramount Pictures</th>                  <td>    0.0166</td> <td>    0.025</td> <td>    0.659</td> <td> 0.510</td> <td>   -0.033</td> <td>    0.066</td>\n",
       "</tr>\n",
       "<tr>\n",
       "  <th>Sony Pictures Entertainment (SPE)</th>   <td>    0.0379</td> <td>    0.026</td> <td>    1.485</td> <td> 0.138</td> <td>   -0.012</td> <td>    0.088</td>\n",
       "</tr>\n",
       "<tr>\n",
       "  <th>TriStar Pictures</th>                    <td>    0.0508</td> <td>    0.041</td> <td>    1.230</td> <td> 0.219</td> <td>   -0.030</td> <td>    0.132</td>\n",
       "</tr>\n",
       "<tr>\n",
       "  <th>Twentieth Century Fox</th>               <td>    0.0589</td> <td>    0.025</td> <td>    2.397</td> <td> 0.017</td> <td>    0.011</td> <td>    0.107</td>\n",
       "</tr>\n",
       "<tr>\n",
       "  <th>Universal Pictures</th>                  <td>    0.0466</td> <td>    0.025</td> <td>    1.855</td> <td> 0.064</td> <td>   -0.003</td> <td>    0.096</td>\n",
       "</tr>\n",
       "<tr>\n",
       "  <th>Walt Disney Studios Motion Pictures</th> <td>    0.0063</td> <td>    0.024</td> <td>    0.262</td> <td> 0.793</td> <td>   -0.041</td> <td>    0.054</td>\n",
       "</tr>\n",
       "<tr>\n",
       "  <th>Warner Bros.</th>                        <td>    0.0424</td> <td>    0.025</td> <td>    1.728</td> <td> 0.084</td> <td>   -0.006</td> <td>    0.090</td>\n",
       "</tr>\n",
       "</table>\n",
       "<table class=\"simpletable\">\n",
       "<tr>\n",
       "  <th>Omnibus:</th>       <td> 9.089</td> <th>  Durbin-Watson:     </th> <td>   2.023</td>\n",
       "</tr>\n",
       "<tr>\n",
       "  <th>Prob(Omnibus):</th> <td> 0.011</td> <th>  Jarque-Bera (JB):  </th> <td>   9.254</td>\n",
       "</tr>\n",
       "<tr>\n",
       "  <th>Skew:</th>          <td>-0.205</td> <th>  Prob(JB):          </th> <td> 0.00978</td>\n",
       "</tr>\n",
       "<tr>\n",
       "  <th>Kurtosis:</th>      <td> 3.255</td> <th>  Cond. No.          </th> <td>3.20e+10</td>\n",
       "</tr>\n",
       "</table><br/><br/>Notes:<br/>[1] Standard Errors assume that the covariance matrix of the errors is correctly specified.<br/>[2] The condition number is large, 3.2e+10. This might indicate that there are<br/>strong multicollinearity or other numerical problems."
      ],
      "text/plain": [
       "<class 'statsmodels.iolib.summary.Summary'>\n",
       "\"\"\"\n",
       "                            OLS Regression Results                            \n",
       "==============================================================================\n",
       "Dep. Variable:              intnl_pct   R-squared:                       0.484\n",
       "Model:                            OLS   Adj. R-squared:                  0.427\n",
       "Method:                 Least Squares   F-statistic:                     8.448\n",
       "Date:                Tue, 12 Jul 2022   Prob (F-statistic):           2.36e-73\n",
       "Time:                        22:46:56   Log-Likelihood:                 752.11\n",
       "No. Observations:                 950   AIC:                            -1312.\n",
       "Df Residuals:                     854   BIC:                            -846.0\n",
       "Df Model:                          95                                         \n",
       "Covariance Type:            nonrobust                                         \n",
       "=======================================================================================================\n",
       "                                          coef    std err          t      P>|t|      [0.025      0.975]\n",
       "-------------------------------------------------------------------------------------------------------\n",
       "const                                  -7.6140      0.812     -9.371      0.000      -9.209      -6.019\n",
       "year                                    0.0040      0.000      9.749      0.000       0.003       0.005\n",
       "run_time                                0.0007      0.000      2.693      0.007       0.000       0.001\n",
       "budget_adj                           4.041e-10   7.62e-11      5.302      0.000    2.55e-10    5.54e-10\n",
       "Adam Sandler                           -0.0373      0.031     -1.187      0.235      -0.099       0.024\n",
       "Angelina Jolie                          0.0464      0.034      1.350      0.177      -0.021       0.114\n",
       "Anne Hathaway                           0.0448      0.035      1.263      0.207      -0.025       0.114\n",
       "Antonio Banderas                       -0.0032      0.039     -0.082      0.934      -0.081       0.074\n",
       "Ben Affleck                            -0.0648      0.036     -1.787      0.074      -0.136       0.006\n",
       "Ben Stiller                             0.0556      0.036      1.543      0.123      -0.015       0.126\n",
       "Brad Pitt                               0.0825      0.035      2.375      0.018       0.014       0.151\n",
       "Bruce Willis                            0.0505      0.038      1.314      0.189      -0.025       0.126\n",
       "Cameron Diaz                            0.0550      0.034      1.601      0.110      -0.012       0.123\n",
       "Cate Blanchett                          0.0236      0.037      0.639      0.523      -0.049       0.096\n",
       "Chris Evans                            -0.0284      0.040     -0.703      0.482      -0.108       0.051\n",
       "Chris Pratt                            -0.0413      0.039     -1.050      0.294      -0.118       0.036\n",
       "Denzel Washington                      -0.0871      0.036     -2.421      0.016      -0.158      -0.016\n",
       "Dwayne Johnson                          0.0852      0.032      2.678      0.008       0.023       0.148\n",
       "Eddie Murphy                           -0.0084      0.034     -0.249      0.804      -0.075       0.058\n",
       "Emma Watson                             0.0506      0.044      1.152      0.250      -0.036       0.137\n",
       "Harrison Ford                          -0.0587      0.031     -1.899      0.058      -0.119       0.002\n",
       "Hugh Jackman                           -0.0112      0.036     -0.313      0.754      -0.081       0.059\n",
       "Ian McKellen                            0.0664      0.042      1.584      0.114      -0.016       0.149\n",
       "Jim Carrey                              0.0352      0.030      1.169      0.243      -0.024       0.094\n",
       "John Travolta                           0.0084      0.037      0.226      0.821      -0.064       0.081\n",
       "Johnny Depp                             0.0378      0.038      0.997      0.319      -0.037       0.112\n",
       "Julia Roberts                           0.0380      0.031      1.221      0.223      -0.023       0.099\n",
       "Kevin Hart                             -0.1317      0.040     -3.288      0.001      -0.210      -0.053\n",
       "Leonardo DiCaprio                       0.0519      0.038      1.375      0.169      -0.022       0.126\n",
       "Liam Neeson                             0.0487      0.037      1.315      0.189      -0.024       0.121\n",
       "Mark Wahlberg                          -0.0102      0.033     -0.311      0.756      -0.075       0.054\n",
       "Matt Damon                             -0.0338      0.033     -1.022      0.307      -0.099       0.031\n",
       "Mel Gibson                              0.0273      0.035      0.781      0.435      -0.041       0.096\n",
       "Morgan Freeman                          0.0386      0.032      1.217      0.224      -0.024       0.101\n",
       "Owen Wilson                            -0.0079      0.039     -0.203      0.839      -0.085       0.069\n",
       "Robert Downey Jr.                       0.0301      0.039      0.772      0.441      -0.046       0.107\n",
       "Robin Williams                          0.0466      0.035      1.315      0.189      -0.023       0.116\n",
       "Ryan Reynolds                           0.0259      0.039      0.671      0.502      -0.050       0.102\n",
       "Samuel L. Jackson                       0.0178      0.031      0.569      0.570      -0.044       0.079\n",
       "Sandra Bullock                         -0.0177      0.035     -0.503      0.615      -0.087       0.051\n",
       "Steve Carell                           -0.0697      0.035     -1.996      0.046      -0.138      -0.001\n",
       "Tom Cruise                              0.0359      0.026      1.364      0.173      -0.016       0.088\n",
       "Tom Hanks                              -0.0138      0.028     -0.499      0.618      -0.068       0.041\n",
       "Tommy Lee Jones                        -0.0495      0.040     -1.253      0.211      -0.127       0.028\n",
       "Vin Diesel                              0.0197      0.040      0.490      0.624      -0.059       0.099\n",
       "Will Ferrell                           -0.1436      0.036     -4.010      0.000      -0.214      -0.073\n",
       "Will Smith                              0.0516      0.031      1.637      0.102      -0.010       0.113\n",
       "Action                                  0.0040      0.012      0.325      0.745      -0.020       0.028\n",
       "Adventure                               0.0443      0.012      3.690      0.000       0.021       0.068\n",
       "Animation                               0.1062      0.018      6.008      0.000       0.072       0.141\n",
       "Biography                              -0.0676      0.022     -3.069      0.002      -0.111      -0.024\n",
       "Comedy                                 -0.0478      0.013     -3.799      0.000      -0.072      -0.023\n",
       "Crime                                  -0.0136      0.013     -1.044      0.297      -0.039       0.012\n",
       "Drama                                   0.0012      0.011      0.104      0.917      -0.021       0.023\n",
       "Family                                 -0.0148      0.016     -0.926      0.355      -0.046       0.017\n",
       "Fantasy                                -0.0129      0.012     -1.118      0.264      -0.036       0.010\n",
       "Horror                                 -0.0207      0.021     -1.011      0.312      -0.061       0.020\n",
       "Music                                  -0.0028      0.022     -0.126      0.899      -0.047       0.041\n",
       "Musical                                -0.0150      0.018     -0.824      0.410      -0.051       0.021\n",
       "Mystery                                 0.0203      0.015      1.321      0.187      -0.010       0.050\n",
       "Romance                                 0.0134      0.012      1.078      0.281      -0.011       0.038\n",
       "Sci-Fi                                 -0.0112      0.012     -0.975      0.330      -0.034       0.011\n",
       "Sport                                  -0.0783      0.024     -3.210      0.001      -0.126      -0.030\n",
       "Thriller                                0.0312      0.012      2.634      0.009       0.008       0.055\n",
       "War                                    -0.0503      0.025     -1.994      0.047      -0.100      -0.001\n",
       "Clint Eastwood                         -0.0683      0.044     -1.540      0.124      -0.155       0.019\n",
       "David Yates                             0.0531      0.048      1.103      0.270      -0.041       0.148\n",
       "Michael Bay                             0.0450      0.043      1.038      0.300      -0.040       0.130\n",
       "Ridley Scott                           -0.0014      0.044     -0.032      0.975      -0.087       0.084\n",
       "Robert Zemeckis                        -0.0114      0.036     -0.318      0.751      -0.082       0.059\n",
       "Ron Howard                             -0.0539      0.044     -1.221      0.222      -0.141       0.033\n",
       "Shawn Levy                              0.0367      0.046      0.804      0.422      -0.053       0.126\n",
       "Steven Spielberg                        0.0702      0.031      2.293      0.022       0.010       0.130\n",
       "Tim Burton                              0.0019      0.045      0.043      0.965      -0.086       0.090\n",
       "August                                 -0.0220      0.027     -0.809      0.419      -0.075       0.031\n",
       "December                                0.0190      0.025      0.771      0.441      -0.029       0.067\n",
       "February                                0.0041      0.028      0.146      0.884      -0.051       0.059\n",
       "January                                -0.0341      0.034     -0.993      0.321      -0.101       0.033\n",
       "July                                    0.0021      0.025      0.083      0.934      -0.047       0.051\n",
       "June                                    0.0218      0.024      0.898      0.369      -0.026       0.070\n",
       "March                                  -0.0101      0.026     -0.382      0.703      -0.062       0.042\n",
       "May                                     0.0410      0.025      1.641      0.101      -0.008       0.090\n",
       "November                                0.0387      0.025      1.537      0.125      -0.011       0.088\n",
       "October                                 0.0594      0.028      2.131      0.033       0.005       0.114\n",
       "September                               0.0368      0.029      1.263      0.207      -0.020       0.094\n",
       "Lionsgate                               0.0113      0.037      0.306      0.760      -0.061       0.084\n",
       "Metro-Goldwyn-Mayer (MGM)               0.0121      0.040      0.302      0.763      -0.066       0.091\n",
       "New Line Cinema                         0.0042      0.036      0.115      0.908      -0.067       0.075\n",
       "Other                                   0.0161      0.027      0.598      0.550      -0.037       0.069\n",
       "Paramount Pictures                      0.0166      0.025      0.659      0.510      -0.033       0.066\n",
       "Sony Pictures Entertainment (SPE)       0.0379      0.026      1.485      0.138      -0.012       0.088\n",
       "TriStar Pictures                        0.0508      0.041      1.230      0.219      -0.030       0.132\n",
       "Twentieth Century Fox                   0.0589      0.025      2.397      0.017       0.011       0.107\n",
       "Universal Pictures                      0.0466      0.025      1.855      0.064      -0.003       0.096\n",
       "Walt Disney Studios Motion Pictures     0.0063      0.024      0.262      0.793      -0.041       0.054\n",
       "Warner Bros.                            0.0424      0.025      1.728      0.084      -0.006       0.090\n",
       "==============================================================================\n",
       "Omnibus:                        9.089   Durbin-Watson:                   2.023\n",
       "Prob(Omnibus):                  0.011   Jarque-Bera (JB):                9.254\n",
       "Skew:                          -0.205   Prob(JB):                      0.00978\n",
       "Kurtosis:                       3.255   Cond. No.                     3.20e+10\n",
       "==============================================================================\n",
       "\n",
       "Notes:\n",
       "[1] Standard Errors assume that the covariance matrix of the errors is correctly specified.\n",
       "[2] The condition number is large, 3.2e+10. This might indicate that there are\n",
       "strong multicollinearity or other numerical problems.\n",
       "\"\"\""
      ]
     },
     "execution_count": 60,
     "metadata": {},
     "output_type": "execute_result"
    }
   ],
   "source": [
    "#normal target: R2= .484, Adj R2 = .427\n",
    "#log target: R2= .345, Adj R2 = .272\n",
    "#sqrt target: R2 = .461, Adj R2 = .401\n",
    "\n",
    "results.summary()"
   ]
  },
  {
   "cell_type": "code",
   "execution_count": 61,
   "id": "69d3f303",
   "metadata": {},
   "outputs": [
    {
     "data": {
      "image/png": "[encoded data removed]",
      "text/plain": [
       "<Figure size 432x288 with 1 Axes>"
      ]
     },
     "metadata": {
      "needs_background": "light"
     },
     "output_type": "display_data"
    }
   ],
   "source": [
    "#normal target: observe a cone shape indication hetersoskedasticity\n",
    "fig_resid = plt.scatter(results.predict(),results.resid)"
   ]
  },
  {
   "cell_type": "code",
   "execution_count": 62,
   "id": "89b14202",
   "metadata": {},
   "outputs": [
    {
     "data": {
      "image/png": "[encoded data removed]",
      "text/plain": [
       "<Figure size 432x288 with 1 Axes>"
      ]
     },
     "metadata": {
      "needs_background": "light"
     },
     "output_type": "display_data"
    }
   ],
   "source": [
    "fig_predict = plt.scatter(results.predict(),y)"
   ]
  },
  {
   "cell_type": "code",
   "execution_count": 63,
   "id": "67bd6ddf",
   "metadata": {},
   "outputs": [
    {
     "data": {
      "text/plain": [
       "<seaborn.axisgrid.PairGrid at 0x7f92fb0fc0a0>"
      ]
     },
     "execution_count": 63,
     "metadata": {},
     "output_type": "execute_result"
    },
    {
     "data": {
      "image/png": "[encoded data removed]",
      "text/plain": [
       "<Figure size 720x720 with 20 Axes>"
      ]
     },
     "metadata": {
      "needs_background": "light"
     },
     "output_type": "display_data"
    }
   ],
   "source": [
    "sns.pairplot(df_feat[['intnl_pct','year','budget_adj','run_time']])"
   ]
  },
  {
   "cell_type": "code",
   "execution_count": 64,
   "id": "0dce29c6",
   "metadata": {},
   "outputs": [
    {
     "data": {
      "image/png": "[encoded data removed]",
      "text/plain": [
       "<Figure size 432x288 with 2 Axes>"
      ]
     },
     "metadata": {
      "needs_background": "light"
     },
     "output_type": "display_data"
    }
   ],
   "source": [
    "sns.heatmap(df_feat[['intnl_pct','year','budget_adj','run_time']].corr(), cmap=\"seismic\", annot=True, vmin=-1, vmax=1);"
   ]
  },
  {
   "cell_type": "code",
   "execution_count": 65,
   "id": "95781921",
   "metadata": {},
   "outputs": [],
   "source": [
    "from statsmodels.stats.outliers_influence import variance_inflation_factor"
   ]
  },
  {
   "cell_type": "code",
   "execution_count": 66,
   "id": "f7fca74e",
   "metadata": {},
   "outputs": [],
   "source": [
    "variables = results.model.exog"
   ]
  },
  {
   "cell_type": "code",
   "execution_count": 67,
   "id": "2190e092",
   "metadata": {},
   "outputs": [
    {
     "data": {
      "text/plain": [
       "[46904.51786858061,\n",
       " 1.3665593787204184,\n",
       " 2.45963645827455,\n",
       " 2.2035898233985636,\n",
       " 1.1614104532605205,\n",
       " 1.1330463361047305,\n",
       " 1.114030154452895,\n",
       " 1.1496843275447528,\n",
       " 1.1637961537591317,\n",
       " 1.3382949540798177,\n",
       " 1.1582011113574955,\n",
       " 1.2012081907998304,\n",
       " 1.2194485390507732,\n",
       " 1.1144965448175082,\n",
       " 1.3231421582487437,\n",
       " 1.1442708020227248,\n",
       " 1.1477753608937684,\n",
       " 1.263002053460803,\n",
       " 1.2688177997231387,\n",
       " 1.4262026329311837,\n",
       " 1.1948598968698758,\n",
       " 1.2293495497942541,\n",
       " 1.301908010582363,\n",
       " 1.1345606107059025,\n",
       " 1.114668216129335,\n",
       " 1.2714251384010438,\n",
       " 1.141541943926611,\n",
       " 1.1871389909146794,\n",
       " 1.1607343846392852,\n",
       " 1.1128369675990246,\n",
       " 1.1888551869423705,\n",
       " 1.1318265475698295,\n",
       " 1.0837564536193751,\n",
       " 1.1090297304696781,\n",
       " 1.247386510164457,\n",
       " 1.4608065786205624,\n",
       " 1.1138125163292014,\n",
       " 1.1007914629553546,\n",
       " 1.2188971555513795,\n",
       " 1.0945219878810106,\n",
       " 1.1687132646410783,\n",
       " 1.1620744699623033,\n",
       " 1.231743929770581,\n",
       " 1.154908664646559,\n",
       " 1.3151849679200978,\n",
       " 1.2295040845444718,\n",
       " 1.166593508614882,\n",
       " 2.6266410944638947,\n",
       " 2.5518306906720634,\n",
       " 2.9036809857587214,\n",
       " 1.357498280324882,\n",
       " 2.7652095728979966,\n",
       " 1.4997602764546978,\n",
       " 1.896816276847361,\n",
       " 3.3954708081141445,\n",
       " 1.7849379217633385,\n",
       " 1.4910823589507376,\n",
       " 1.1602364123894613,\n",
       " 1.4127831747834179,\n",
       " 1.451441608597923,\n",
       " 1.4848078177021746,\n",
       " 1.7255925179570062,\n",
       " 1.2079050013228956,\n",
       " 1.8674823872799382,\n",
       " 1.2490645441677426,\n",
       " 1.167404241229228,\n",
       " 1.3770812164278696,\n",
       " 1.253229369299826,\n",
       " 1.1243618656294436,\n",
       " 1.13824152275476,\n",
       " 1.1569395642742788,\n",
       " 1.2338691056437865,\n",
       " 1.2398657994774596,\n",
       " 1.1911803692357257,\n",
       " 3.010392905298132,\n",
       " 5.376103115898063,\n",
       " 2.750525137964279,\n",
       " 1.8911141653578984,\n",
       " 4.571152056911985,\n",
       " 5.43779758279158,\n",
       " 3.427320253580439,\n",
       " 4.459800624989913,\n",
       " 4.575055517074446,\n",
       " 2.962988925803536,\n",
       " 2.6595536994086815,\n",
       " 1.797079616713883,\n",
       " 1.6532643945485592,\n",
       " 1.9078309908453106,\n",
       " 3.698062068555509,\n",
       " 4.368970160488887,\n",
       " 4.314192613636751,\n",
       " 1.5113114692638268,\n",
       " 4.701733855357941,\n",
       " 5.160254217120667,\n",
       " 5.896340810202033,\n",
       " 6.036370868646887]"
      ]
     },
     "execution_count": 67,
     "metadata": {},
     "output_type": "execute_result"
    }
   ],
   "source": [
    "vif = [variance_inflation_factor(variables, i)\n",
    "      for i in range(variables.shape[1])]\n",
    "vif"
   ]
  },
  {
   "cell_type": "markdown",
   "id": "b37f6808",
   "metadata": {},
   "source": [
    "## C // VALIDATION AND TESTING\n",
    "\n",
    "**OLS**\n",
    "- R2 = 0.33 +- 0.11\n",
    "- MAE = 0.1 +- 0.01\n",
    "\n",
    "**OLS Polynomial**\n",
    "- R2 = -0.21 +- 0.36\n",
    "- MAE = 0.13 +- 0.02\n",
    "\n",
    "**OLS Ridge**\n",
    "- R2 = .29\n",
    "- MAE = 0.09\n",
    "\n",
    "**OLS Lasso**\n",
    "- R2 = .33\n",
    "- MAE = 0.09"
   ]
  },
  {
   "cell_type": "markdown",
   "id": "7bb28c31",
   "metadata": {},
   "source": [
    "### C1 // OLS Cross Validation "
   ]
  },
  {
   "cell_type": "code",
   "execution_count": 68,
   "id": "4cd4b120",
   "metadata": {},
   "outputs": [],
   "source": [
    "from sklearn.pipeline import Pipeline\n",
    "from sklearn.linear_model import LinearRegression, Lasso, LassoCV, Ridge, RidgeCV\n",
    "from sklearn.model_selection import train_test_split, KFold, cross_val_score\n",
    "from sklearn.preprocessing import StandardScaler, PolynomialFeatures\n",
    "from sklearn.metrics import r2_score, mean_absolute_error"
   ]
  },
  {
   "cell_type": "markdown",
   "id": "6655e0c7",
   "metadata": {},
   "source": [
    "**Create train/test 80-20 split**"
   ]
  },
  {
   "cell_type": "code",
   "execution_count": 69,
   "id": "1a8e77db",
   "metadata": {},
   "outputs": [],
   "source": [
    "X_train, X_test, y_train, y_test = train_test_split(X, y, test_size=0.2,random_state=10)"
   ]
  },
  {
   "cell_type": "markdown",
   "id": "dcf4a621",
   "metadata": {},
   "source": [
    "**OLS Cross Validation**"
   ]
  },
  {
   "cell_type": "code",
   "execution_count": 70,
   "id": "6253b245",
   "metadata": {},
   "outputs": [],
   "source": [
    "lm = LinearRegression()\n",
    "\n",
    "kf = KFold(n_splits = 5,\n",
    "           shuffle = True,\n",
    "           random_state = 10)"
   ]
  },
  {
   "cell_type": "code",
   "execution_count": 72,
   "id": "c3c8dded",
   "metadata": {},
   "outputs": [
    {
     "name": "stdout",
     "output_type": "stream",
     "text": [
      "[0.3961999  0.44535595 0.3609847  0.13781615 0.29627534]\n"
     ]
    }
   ],
   "source": [
    "lm_cv_r2 = cross_val_score(lm, X_train, y_train,\n",
    "                       cv = kf,\n",
    "                       scoring = 'r2')\n",
    "print(lm_cv_r2)"
   ]
  },
  {
   "cell_type": "code",
   "execution_count": 74,
   "id": "0d5d3ae4",
   "metadata": {},
   "outputs": [
    {
     "name": "stdout",
     "output_type": "stream",
     "text": [
      "0.33 +- 0.11\n"
     ]
    }
   ],
   "source": [
    "print(np.round(np.mean(lm_cv_r2),2), '+-', np.round(np.std(lm_cv_r2),2))"
   ]
  },
  {
   "cell_type": "code",
   "execution_count": 75,
   "id": "85124911",
   "metadata": {},
   "outputs": [
    {
     "name": "stdout",
     "output_type": "stream",
     "text": [
      "[-0.09896985 -0.09998686 -0.09148211 -0.10803821 -0.10391678]\n"
     ]
    }
   ],
   "source": [
    "lm_cv_mae = cross_val_score(lm, X_train, y_train,\n",
    "                       cv = kf,\n",
    "                       scoring = 'neg_mean_absolute_error')\n",
    "print(lm_cv_mae)"
   ]
  },
  {
   "cell_type": "code",
   "execution_count": 76,
   "id": "257cd3c1",
   "metadata": {},
   "outputs": [
    {
     "name": "stdout",
     "output_type": "stream",
     "text": [
      "-0.1 +- 0.01\n"
     ]
    }
   ],
   "source": [
    "print(np.round(np.mean(lm_cv_mae),2), '+-', np.round(np.std(lm_cv_mae),2))"
   ]
  },
  {
   "cell_type": "markdown",
   "id": "f46cefb9",
   "metadata": {},
   "source": [
    "### C2 // Polynomial Regression Cross Validation"
   ]
  },
  {
   "cell_type": "code",
   "execution_count": 77,
   "id": "3c407579",
   "metadata": {},
   "outputs": [],
   "source": [
    "poly = PolynomialFeatures(degree=2) "
   ]
  },
  {
   "cell_type": "code",
   "execution_count": 78,
   "id": "0074ec9b",
   "metadata": {},
   "outputs": [],
   "source": [
    "X_train_poly = poly.fit_transform(X_train.values)\n",
    "X_test_poly = poly.transform(X_test.values)\n",
    "\n",
    "lm_poly = LinearRegression()"
   ]
  },
  {
   "cell_type": "code",
   "execution_count": 83,
   "id": "869de655",
   "metadata": {},
   "outputs": [
    {
     "name": "stdout",
     "output_type": "stream",
     "text": [
      "[ 0.23373534 -0.07053366 -0.12093201 -0.22441971 -0.86589226]\n"
     ]
    }
   ],
   "source": [
    "lm_cv_poly_r2 = cross_val_score(lm_poly, X_train_poly, y_train,\n",
    "                       cv = kf,\n",
    "                       scoring = 'r2')\n",
    "print(lm_cv_poly_r2)"
   ]
  },
  {
   "cell_type": "code",
   "execution_count": 84,
   "id": "d09aefc9",
   "metadata": {},
   "outputs": [
    {
     "name": "stdout",
     "output_type": "stream",
     "text": [
      "-0.21 +- 0.36\n"
     ]
    }
   ],
   "source": [
    "print(np.round(np.mean(lm_cv_poly_r2),2), '+-', np.round(np.std(lm_cv_poly_r2),2))"
   ]
  },
  {
   "cell_type": "code",
   "execution_count": 85,
   "id": "c2497ca2",
   "metadata": {},
   "outputs": [
    {
     "name": "stdout",
     "output_type": "stream",
     "text": [
      "[-0.10654087 -0.13236352 -0.11810634 -0.11938324 -0.15375902]\n"
     ]
    }
   ],
   "source": [
    "lm_cv_poly_mae = cross_val_score(lm_poly, X_train_poly, y_train,\n",
    "                       cv = kf,\n",
    "                       scoring = 'neg_mean_absolute_error')\n",
    "print(lm_cv_poly_mae)"
   ]
  },
  {
   "cell_type": "code",
   "execution_count": 86,
   "id": "0e31b898",
   "metadata": {},
   "outputs": [
    {
     "name": "stdout",
     "output_type": "stream",
     "text": [
      "-0.13 +- 0.02\n"
     ]
    }
   ],
   "source": [
    "print(np.round(np.mean(lm_cv_poly_mae),2), '+-', np.round(np.std(lm_cv_poly_mae),2))"
   ]
  },
  {
   "cell_type": "markdown",
   "id": "bdf1a223",
   "metadata": {},
   "source": [
    "### C3 // Regularization testing Ridge Regularization CV"
   ]
  },
  {
   "cell_type": "code",
   "execution_count": 87,
   "id": "d1730399",
   "metadata": {},
   "outputs": [],
   "source": [
    "#test and train_val sets\n",
    "X_train, X_test, y_train, y_test = train_test_split(X, y, test_size=0.2,random_state=10)"
   ]
  },
  {
   "cell_type": "code",
   "execution_count": 88,
   "id": "4404c060",
   "metadata": {},
   "outputs": [
    {
     "data": {
      "text/plain": [
       "(760,)"
      ]
     },
     "execution_count": 88,
     "metadata": {},
     "output_type": "execute_result"
    }
   ],
   "source": [
    "y_train.shape # 80%"
   ]
  },
  {
   "cell_type": "code",
   "execution_count": 89,
   "id": "d3583d01",
   "metadata": {},
   "outputs": [
    {
     "data": {
      "text/plain": [
       "(190,)"
      ]
     },
     "execution_count": 89,
     "metadata": {},
     "output_type": "execute_result"
    }
   ],
   "source": [
    "y_test.shape # 20%"
   ]
  },
  {
   "cell_type": "code",
   "execution_count": 90,
   "id": "67e1f0c1",
   "metadata": {},
   "outputs": [
    {
     "data": {
      "text/plain": [
       "StandardScaler()"
      ]
     },
     "execution_count": 90,
     "metadata": {},
     "output_type": "execute_result"
    }
   ],
   "source": [
    "#standardize features\n",
    "std = StandardScaler()\n",
    "std.fit(X_train.values)"
   ]
  },
  {
   "cell_type": "code",
   "execution_count": 91,
   "id": "5bb1c09a",
   "metadata": {},
   "outputs": [],
   "source": [
    "#standardize X train and test sets\n",
    "X_tr = std.transform(X_train.values)\n",
    "X_te = std.transform(X_test.values)"
   ]
  },
  {
   "cell_type": "code",
   "execution_count": 92,
   "id": "aea484e2",
   "metadata": {},
   "outputs": [
    {
     "data": {
      "text/plain": [
       "RidgeCV(alphas=array([1.00000000e-02, 1.04737090e-02, 1.09698580e-02, 1.14895100e-02,\n",
       "       1.20337784e-02, 1.26038293e-02, 1.32008840e-02, 1.38262217e-02,\n",
       "       1.44811823e-02, 1.51671689e-02, 1.58856513e-02, 1.66381689e-02,\n",
       "       1.74263339e-02, 1.82518349e-02, 1.91164408e-02, 2.00220037e-02,\n",
       "       2.09704640e-02, 2.19638537e-02, 2.30043012e-02, 2.40940356e-02,\n",
       "       2.52353917e-02, 2.64308149e-0...\n",
       "       3.44896226e+01, 3.61234270e+01, 3.78346262e+01, 3.96268864e+01,\n",
       "       4.15040476e+01, 4.34701316e+01, 4.55293507e+01, 4.76861170e+01,\n",
       "       4.99450512e+01, 5.23109931e+01, 5.47890118e+01, 5.73844165e+01,\n",
       "       6.01027678e+01, 6.29498899e+01, 6.59318827e+01, 6.90551352e+01,\n",
       "       7.23263390e+01, 7.57525026e+01, 7.93409667e+01, 8.30994195e+01,\n",
       "       8.70359136e+01, 9.11588830e+01, 9.54771611e+01, 1.00000000e+02]),\n",
       "        cv=5)"
      ]
     },
     "execution_count": 92,
     "metadata": {},
     "output_type": "execute_result"
    }
   ],
   "source": [
    "#alpha tuning using cross validtion w training data\n",
    "alphavec = 10**np.linspace(-2,2,200)\n",
    "ridge_model = RidgeCV(alphas = alphavec, cv = 5)\n",
    "ridge_model.fit(X_tr, y_train)"
   ]
  },
  {
   "cell_type": "code",
   "execution_count": 93,
   "id": "efb40c7a",
   "metadata": {},
   "outputs": [
    {
     "data": {
      "text/plain": [
       "100.0"
      ]
     },
     "execution_count": 93,
     "metadata": {},
     "output_type": "execute_result"
    }
   ],
   "source": [
    "ridge_model.alpha_"
   ]
  },
  {
   "cell_type": "code",
   "execution_count": 94,
   "id": "aaee1b88",
   "metadata": {},
   "outputs": [],
   "source": [
    "#adjusted standardized coeffecients with selected lambda\n",
    "adj_coeff_ridge = list(zip(X_train.columns, ridge_model.coef_))"
   ]
  },
  {
   "cell_type": "code",
   "execution_count": 95,
   "id": "af5f2057",
   "metadata": {},
   "outputs": [],
   "source": [
    "test_pred = ridge_model.predict(X_te)"
   ]
  },
  {
   "cell_type": "code",
   "execution_count": 96,
   "id": "2db2bfd7",
   "metadata": {},
   "outputs": [
    {
     "data": {
      "text/plain": [
       "0.0920618377860823"
      ]
     },
     "execution_count": 96,
     "metadata": {},
     "output_type": "execute_result"
    }
   ],
   "source": [
    "mean_absolute_error(y_test, test_pred)"
   ]
  },
  {
   "cell_type": "code",
   "execution_count": 97,
   "id": "d61149b3",
   "metadata": {},
   "outputs": [
    {
     "data": {
      "text/plain": [
       "0.290804821468989"
      ]
     },
     "execution_count": 97,
     "metadata": {},
     "output_type": "execute_result"
    }
   ],
   "source": [
    "r2_score(y_test,test_pred)"
   ]
  },
  {
   "cell_type": "markdown",
   "id": "f9600c1c",
   "metadata": {},
   "source": [
    "### C4 // Regularization testing Lasso Regression CV"
   ]
  },
  {
   "cell_type": "code",
   "execution_count": 98,
   "id": "a80e826c",
   "metadata": {},
   "outputs": [
    {
     "data": {
      "text/plain": [
       "LassoCV(alphas=array([1.00000000e-02, 1.04737090e-02, 1.09698580e-02, 1.14895100e-02,\n",
       "       1.20337784e-02, 1.26038293e-02, 1.32008840e-02, 1.38262217e-02,\n",
       "       1.44811823e-02, 1.51671689e-02, 1.58856513e-02, 1.66381689e-02,\n",
       "       1.74263339e-02, 1.82518349e-02, 1.91164408e-02, 2.00220037e-02,\n",
       "       2.09704640e-02, 2.19638537e-02, 2.30043012e-02, 2.40940356e-02,\n",
       "       2.52353917e-02, 2.64308149e-0...\n",
       "       3.44896226e+01, 3.61234270e+01, 3.78346262e+01, 3.96268864e+01,\n",
       "       4.15040476e+01, 4.34701316e+01, 4.55293507e+01, 4.76861170e+01,\n",
       "       4.99450512e+01, 5.23109931e+01, 5.47890118e+01, 5.73844165e+01,\n",
       "       6.01027678e+01, 6.29498899e+01, 6.59318827e+01, 6.90551352e+01,\n",
       "       7.23263390e+01, 7.57525026e+01, 7.93409667e+01, 8.30994195e+01,\n",
       "       8.70359136e+01, 9.11588830e+01, 9.54771611e+01, 1.00000000e+02]),\n",
       "        cv=5)"
      ]
     },
     "execution_count": 98,
     "metadata": {},
     "output_type": "execute_result"
    }
   ],
   "source": [
    "#Lasso Test\n",
    "#alpha tuning using cross validtion w training data\n",
    "alphavec = 10**np.linspace(-2,2,200)\n",
    "lasso_model = LassoCV(alphas = alphavec, cv = 5)\n",
    "lasso_model.fit(X_tr, y_train)"
   ]
  },
  {
   "cell_type": "code",
   "execution_count": 99,
   "id": "1238acec",
   "metadata": {},
   "outputs": [],
   "source": [
    "#test model on X test set\n",
    "test_pred = lasso_model.predict(X_te)"
   ]
  },
  {
   "cell_type": "code",
   "execution_count": 100,
   "id": "c6e6e642",
   "metadata": {},
   "outputs": [
    {
     "data": {
      "text/plain": [
       "0.01"
      ]
     },
     "execution_count": 100,
     "metadata": {},
     "output_type": "execute_result"
    }
   ],
   "source": [
    "lasso_model.alpha_"
   ]
  },
  {
   "cell_type": "code",
   "execution_count": 101,
   "id": "0fcfc68c",
   "metadata": {},
   "outputs": [],
   "source": [
    "#adjusted standardized coeffecients with selected lambda\n",
    "adj_coeff_lasso = list(zip(X_train.columns, lasso_model.coef_))"
   ]
  },
  {
   "cell_type": "code",
   "execution_count": 102,
   "id": "94f2f36f",
   "metadata": {},
   "outputs": [],
   "source": [
    "test_pred = lasso_model.predict(X_te)"
   ]
  },
  {
   "cell_type": "code",
   "execution_count": 103,
   "id": "a641d7d1",
   "metadata": {},
   "outputs": [
    {
     "data": {
      "text/plain": [
       "0.0863475042354472"
      ]
     },
     "execution_count": 103,
     "metadata": {},
     "output_type": "execute_result"
    }
   ],
   "source": [
    "mean_absolute_error(y_test, test_pred)"
   ]
  },
  {
   "cell_type": "code",
   "execution_count": 104,
   "id": "3a5060ef",
   "metadata": {},
   "outputs": [
    {
     "data": {
      "text/plain": [
       "0.3269210349276295"
      ]
     },
     "execution_count": 104,
     "metadata": {},
     "output_type": "execute_result"
    }
   ],
   "source": [
    "r2_score(y_test,test_pred)"
   ]
  },
  {
   "cell_type": "markdown",
   "id": "e99de356",
   "metadata": {},
   "source": [
    "## D // Model Selection\n",
    "\n",
    "**Rejected:** Polynomial Linear Regression, Ridge Regression, Linear Regression<br>\n",
    "**Adopted:** Lasso Regression (R2 = .33, MAE = 0.09)"
   ]
  },
  {
   "cell_type": "code",
   "execution_count": 124,
   "id": "10bf6080",
   "metadata": {},
   "outputs": [
    {
     "data": {
      "text/plain": [
       "(0.0, 1.0)"
      ]
     },
     "execution_count": 124,
     "metadata": {},
     "output_type": "execute_result"
    },
    {
     "data": {
      "image/png": "[encoded data removed]",
      "text/plain": [
       "<Figure size 432x288 with 1 Axes>"
      ]
     },
     "metadata": {
      "needs_background": "light"
     },
     "output_type": "display_data"
    }
   ],
   "source": [
    "fig, ax = plt.subplots()\n",
    "ax.plot(y_test,y_test,color='orange', alpha = .5)\n",
    "ax.scatter(y_test,test_pred, alpha = .5)\n",
    "\n",
    "plt.title('Predicted v. Actual International Revenue Percent')\n",
    "ax.axes.set_xlim(0,1)\n",
    "ax.axes.set_ylim(0,1)\n"
   ]
  },
  {
   "cell_type": "code",
   "execution_count": 120,
   "id": "3becd6e9",
   "metadata": {},
   "outputs": [
    {
     "data": {
      "text/plain": [
       "[('const', 0.0),\n",
       " ('year', 0.03162324803447938),\n",
       " ('run_time', 0.005712469350927722),\n",
       " ('budget_adj', 0.03441516992493835),\n",
       " ('Adam Sandler', -0.0),\n",
       " ('Angelina Jolie', 0.0),\n",
       " ('Anne Hathaway', 0.0),\n",
       " ('Antonio Banderas', -0.0),\n",
       " ('Ben Affleck', -0.0),\n",
       " ('Ben Stiller', 0.0),\n",
       " ('Brad Pitt', 0.0031910849268554815),\n",
       " ('Bruce Willis', 0.0),\n",
       " ('Cameron Diaz', 0.0),\n",
       " ('Cate Blanchett', 0.0),\n",
       " ('Chris Evans', -0.0),\n",
       " ('Chris Pratt', -0.0),\n",
       " ('Denzel Washington', -0.0),\n",
       " ('Dwayne Johnson', 0.0),\n",
       " ('Eddie Murphy', -0.0),\n",
       " ('Emma Watson', 4.558805936891728e-05),\n",
       " ('Harrison Ford', -0.0),\n",
       " ('Hugh Jackman', 0.0),\n",
       " ('Ian McKellen', 0.0),\n",
       " ('Jim Carrey', 0.0),\n",
       " ('John Travolta', -0.0),\n",
       " ('Johnny Depp', 0.0),\n",
       " ('Julia Roberts', 0.0),\n",
       " ('Kevin Hart', -0.004052518768435721),\n",
       " ('Leonardo DiCaprio', 0.0),\n",
       " ('Liam Neeson', 0.0),\n",
       " ('Mark Wahlberg', -0.0),\n",
       " ('Matt Damon', 0.0),\n",
       " ('Mel Gibson', 0.0),\n",
       " ('Morgan Freeman', 0.0),\n",
       " ('Owen Wilson', 0.0),\n",
       " ('Robert Downey Jr.', -0.0),\n",
       " ('Robin Williams', 0.0),\n",
       " ('Ryan Reynolds', 0.0),\n",
       " ('Samuel L. Jackson', 0.0),\n",
       " ('Sandra Bullock', 0.0),\n",
       " ('Steve Carell', -0.0),\n",
       " ('Tom Cruise', 0.0),\n",
       " ('Tom Hanks', -0.0),\n",
       " ('Tommy Lee Jones', 0.0),\n",
       " ('Vin Diesel', 0.0),\n",
       " ('Will Ferrell', -0.015652416206772875),\n",
       " ('Will Smith', 0.0),\n",
       " ('Action', 0.0),\n",
       " ('Adventure', 0.02200336522910949),\n",
       " ('Animation', 0.012070072372524065),\n",
       " ('Biography', -0.006187242132449679),\n",
       " ('Comedy', -0.014673063361305513),\n",
       " ('Crime', -0.0),\n",
       " ('Drama', -0.0),\n",
       " ('Family', 0.0),\n",
       " ('Fantasy', 0.0),\n",
       " ('Horror', -0.0),\n",
       " ('Music', -0.0),\n",
       " ('Musical', 0.0),\n",
       " ('Mystery', 0.0012093985816433144),\n",
       " ('Romance', 0.0),\n",
       " ('Sci-Fi', -0.0),\n",
       " ('Sport', -0.0034836754100366386),\n",
       " ('Thriller', 0.011153495482830804),\n",
       " ('War', -0.0),\n",
       " ('Clint Eastwood', -0.0),\n",
       " ('David Yates', 0.0015162947734100826),\n",
       " ('Michael Bay', -0.0),\n",
       " ('Ridley Scott', -0.0),\n",
       " ('Robert Zemeckis', -0.0),\n",
       " ('Ron Howard', -0.0),\n",
       " ('Shawn Levy', 0.0),\n",
       " ('Steven Spielberg', 0.0),\n",
       " ('Tim Burton', -0.0),\n",
       " ('August', -0.0029989702833318455),\n",
       " ('December', -0.0),\n",
       " ('February', -0.0),\n",
       " ('January', -0.0),\n",
       " ('July', -0.0),\n",
       " ('June', 0.0),\n",
       " ('March', -0.0),\n",
       " ('May', 0.0035671405194842537),\n",
       " ('November', 0.0),\n",
       " ('October', 0.0008995820225477508),\n",
       " ('September', 0.0),\n",
       " ('Lionsgate', -0.0),\n",
       " ('Metro-Goldwyn-Mayer (MGM)', -0.0),\n",
       " ('New Line Cinema', -0.0),\n",
       " ('Other', -0.0),\n",
       " ('Paramount Pictures', -0.0),\n",
       " ('Sony Pictures Entertainment (SPE)', 0.0),\n",
       " ('TriStar Pictures', 0.0),\n",
       " ('Twentieth Century Fox', 0.0006970732799368018),\n",
       " ('Universal Pictures', 0.0),\n",
       " ('Walt Disney Studios Motion Pictures', -0.0),\n",
       " ('Warner Bros.', 0.0)]"
      ]
     },
     "execution_count": 120,
     "metadata": {},
     "output_type": "execute_result"
    }
   ],
   "source": [
    "list(zip(X_train.columns, lasso_model.coef_))"
   ]
  }
 ],
 "metadata": {
  "kernelspec": {
   "display_name": "Python 3 (regression)",
   "language": "python",
   "name": "regression"
  },
  "language_info": {
   "codemirror_mode": {
    "name": "ipython",
    "version": 3
   },
   "file_extension": ".py",
   "mimetype": "text/x-python",
   "name": "python",
   "nbconvert_exporter": "python",
   "pygments_lexer": "ipython3",
   "version": "3.9.7"
  }
 },
 "nbformat": 4,
 "nbformat_minor": 5
}
